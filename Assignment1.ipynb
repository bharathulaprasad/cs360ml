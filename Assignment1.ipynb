{
  "nbformat": 4,
  "nbformat_minor": 0,
  "metadata": {
    "colab": {
      "name": "Assignment1.ipynb",
      "provenance": [],
      "collapsed_sections": [],
      "mount_file_id": "1O1Puz5LOwq9f2lAPqhmnoX4WEjrgQoOc",
      "authorship_tag": "ABX9TyNClxxnt5EZxHToXqlw8xf/",
      "include_colab_link": true
    },
    "kernelspec": {
      "name": "python3",
      "display_name": "Python 3"
    }
  },
  "cells": [
    {
      "cell_type": "markdown",
      "metadata": {
        "id": "view-in-github",
        "colab_type": "text"
      },
      "source": [
        "<a href=\"https://colab.research.google.com/github/bharathulaprasad/cs360ml/blob/main/Assignment1.ipynb\" target=\"_parent\"><img src=\"https://colab.research.google.com/assets/colab-badge.svg\" alt=\"Open In Colab\"/></a>"
      ]
    },
    {
      "cell_type": "code",
      "metadata": {
        "colab": {
          "base_uri": "https://localhost:8080/"
        },
        "id": "8UNitMGegPiF",
        "outputId": "36ba007b-08db-405f-a2d7-6d82bbe16500"
      },
      "source": [
        "#Part 1 - Python Basics \r\n",
        "\r\n",
        "#1\r\n",
        "#Write a command to get the Python version you are using.\r\n",
        "!python --version"
      ],
      "execution_count": null,
      "outputs": [
        {
          "output_type": "stream",
          "text": [
            "Python 3.6.9\n"
          ],
          "name": "stdout"
        }
      ]
    },
    {
      "cell_type": "code",
      "metadata": {
        "colab": {
          "base_uri": "https://localhost:8080/"
        },
        "id": "FFz5JAHSgvFV",
        "outputId": "bfc48244-7040-456f-c65b-6a37cdde5cea"
      },
      "source": [
        "#2\r\n",
        "# Write a command or program to locate Python site-packages\r\n",
        "import site; \r\n",
        "print(site.getsitepackages())"
      ],
      "execution_count": null,
      "outputs": [
        {
          "output_type": "stream",
          "text": [
            "['/usr/local/lib/python3.6/dist-packages', '/usr/lib/python3/dist-packages', '/usr/lib/python3.6/dist-packages']\n"
          ],
          "name": "stdout"
        }
      ]
    },
    {
      "cell_type": "code",
      "metadata": {
        "colab": {
          "base_uri": "https://localhost:8080/"
        },
        "id": "rn7vs4TSg9Ce",
        "outputId": "f72e0cdf-e992-4a21-b911-ca6ff8d45a5f"
      },
      "source": [
        "#3\r\n",
        "# Write a command or program to get the path and name of the file that is currently executing.\r\n",
        "from pathlib import Path\r\n",
        "import os\r\n",
        "\r\n",
        "print('File dir:', os.path.dirname(''))\r\n",
        "print('File name:', Path(os.path.abspath('')).resolve().stem)\r\n"
      ],
      "execution_count": null,
      "outputs": [
        {
          "output_type": "stream",
          "text": [
            "File dir: \n",
            "File name: content\n"
          ],
          "name": "stdout"
        }
      ]
    },
    {
      "cell_type": "code",
      "metadata": {
        "colab": {
          "base_uri": "https://localhost:8080/"
        },
        "id": "-maOOi7cjQgS",
        "outputId": "99b83061-8786-49be-c310-3b2d11f004c4"
      },
      "source": [
        "#4\r\n",
        "# Write a python program to randomly generate two matrices of\r\n",
        "# size [2x3 and 3x2] and do the matrix multiplication using\r\n",
        "# the two generated matrices. (Say A = BC)\r\n",
        "import numpy as np\r\n",
        "B= np.random.rand(2,3)\r\n",
        "C=np.random.rand(3,2)\r\n",
        "A=np.matmul(B,C)\r\n",
        "A"
      ],
      "execution_count": null,
      "outputs": [
        {
          "output_type": "execute_result",
          "data": {
            "text/plain": [
              "array([[0.6664182 , 0.28733952],\n",
              "       [0.3175027 , 0.1406193 ]])"
            ]
          },
          "metadata": {
            "tags": []
          },
          "execution_count": 3
        }
      ]
    },
    {
      "cell_type": "code",
      "metadata": {
        "colab": {
          "base_uri": "https://localhost:8080/"
        },
        "id": "M5AHm72HkhWI",
        "outputId": "9b38b3ab-a3e4-4c04-b520-a953ec5fdfa6"
      },
      "source": [
        "#5\r\n",
        "#  Use a for loop to implement the above question five times\r\n",
        "# and thereafter take the average of all the five matrices\r\n",
        "# and display the result.\r\n",
        "import numpy as np\r\n",
        "#create for loop for 5 times\r\n",
        "i = 0\r\n",
        "while i < 5:\r\n",
        "  B = np.random.rand(2,2)\r\n",
        "  A = np.add(A,B)\r\n",
        "  i += 1\r\n",
        "np.divide(A,5)\r\n",
        "print (A)\r\n"
      ],
      "execution_count": null,
      "outputs": [
        {
          "output_type": "stream",
          "text": [
            "[[3.89865988 3.6212107 ]\n",
            " [3.87715932 3.3753419 ]]\n"
          ],
          "name": "stdout"
        }
      ]
    },
    {
      "cell_type": "code",
      "metadata": {
        "colab": {
          "base_uri": "https://localhost:8080/"
        },
        "id": "84SV2-o5V8Vw",
        "outputId": "fc69ff44-aa41-43c3-af51-b8f07b82d47b"
      },
      "source": [
        "#6\r\n",
        "# Write a program to transfer the matrix (generated in\r\n",
        "#question 5) to the CSV file and then read the same matrix\r\n",
        "#and display the transposition of it.\r\n",
        "from numpy import genfromtxt\r\n",
        "np.savetxt(\"foo.csv\", A, delimiter=\",\")\r\n",
        "print(genfromtxt('foo.csv', delimiter=','))\r\n",
        "print(A.transpose())"
      ],
      "execution_count": null,
      "outputs": [
        {
          "output_type": "stream",
          "text": [
            "[[21.70425081 18.32056069]\n",
            " [20.12660461 22.8338985 ]]\n",
            "[[21.70425081 20.12660461]\n",
            " [18.32056069 22.8338985 ]]\n"
          ],
          "name": "stdout"
        }
      ]
    },
    {
      "cell_type": "code",
      "metadata": {
        "colab": {
          "base_uri": "https://localhost:8080/"
        },
        "id": "0zvuECFdhh7_",
        "outputId": "f32db097-c26e-4ca3-8838-951f6a258438"
      },
      "source": [
        "#7 \r\n",
        "# Write a program to find the mean, mode, and median of the\r\n",
        "#above-mentioned matrix.\r\n",
        "from scipy import stats\r\n",
        "A = np.array([[30,80,10],[80,80,10],[80,50,50]]) \r\n",
        "print(np.mean(A))\r\n",
        "print(np.median(A))\r\n",
        "print(stats.mode(A))"
      ],
      "execution_count": null,
      "outputs": [
        {
          "output_type": "stream",
          "text": [
            "52.22222222222222\n",
            "50.0\n",
            "ModeResult(mode=array([[80, 80, 10]]), count=array([[2, 2, 2]]))\n"
          ],
          "name": "stdout"
        }
      ]
    },
    {
      "cell_type": "code",
      "metadata": {
        "colab": {
          "base_uri": "https://localhost:8080/"
        },
        "id": "xl8A9i1Qmfh-",
        "outputId": "fb0fa14b-6853-4fb1-8cd8-0e9976bc7bf2"
      },
      "source": [
        "# 8 \r\n",
        "# upper traingle of the above array\r\n",
        "print(A[np.triu_indices(3)])"
      ],
      "execution_count": null,
      "outputs": [
        {
          "output_type": "stream",
          "text": [
            "[30 80 10 80 10 50]\n"
          ],
          "name": "stdout"
        }
      ]
    },
    {
      "cell_type": "code",
      "metadata": {
        "colab": {
          "base_uri": "https://localhost:8080/"
        },
        "id": "a6zOa3zVnR5P",
        "outputId": "90bfadaa-5996-4b48-aaa9-8ec170ec0147"
      },
      "source": [
        "# 9\r\n",
        "# Write a Python program to read specific columns of a given\r\n",
        "#CSV file and print the content of the columns\r\n",
        "# (Column number should be given by the user)\r\n",
        "import pandas as pd\r\n",
        "column=input(\"input column number to read in csv like 0, 1, 2, or 3 : \")\r\n",
        "name = [\"aparna\", \"pankaj\", \"krishna\", \"sudhir\"] \r\n",
        "degree = [\"MBA\", \"BCA\", \"M.Tech\", \"MBA\"] \r\n",
        "score = [90, 40, 80, 98] \r\n",
        "dict = {'name': name, 'degree': degree, 'score': score}       \r\n",
        "df = pd.DataFrame(dict) \r\n",
        "df.to_csv('scores.csv') \r\n",
        "# saving the dataframe  \r\n",
        "df = pd.read_csv('scores.csv',usecols=[int(column)], low_memory = True)\r\n",
        "print(df)"
      ],
      "execution_count": null,
      "outputs": [
        {
          "output_type": "stream",
          "text": [
            "input column number to read in csv like 0, 1, 2, or 3 : 3\n",
            "   score\n",
            "0     90\n",
            "1     40\n",
            "2     80\n",
            "3     98\n"
          ],
          "name": "stdout"
        }
      ]
    },
    {
      "cell_type": "code",
      "metadata": {
        "colab": {
          "base_uri": "https://localhost:8080/"
        },
        "id": "2fxY8_T0yLV_",
        "outputId": "92244873-d800-4f11-e419-3996a66a8b66"
      },
      "source": [
        "# 10\r\n",
        "# Write a Python program to replace a user-defined number\r\n",
        "# present in the CSV file by the character ‘A’\r\n",
        "import pandas as pd \r\n",
        "\r\n",
        "# Making data frame from the csv file \r\n",
        "df = pd.read_csv(\"scores.csv\") \r\n",
        "# Printing the first 4 rows of the data frame for visualization \r\n",
        "print(\"before changing\\n\", ) \r\n",
        "print(df[:4])\r\n",
        "column=input(\"value to replace: \");\r\n",
        "df.replace(to_replace =int(column), \r\n",
        "                 value ='A', inplace=True) \r\n",
        "\r\n",
        "print(\"changing now\")\r\n",
        "df.to_csv(\"scores_changed.csv\")\r\n",
        "df = pd.read_csv(\"scores_changed.csv\") \r\n",
        "print(df[:4])"
      ],
      "execution_count": null,
      "outputs": [
        {
          "output_type": "stream",
          "text": [
            "before changing\n",
            "\n",
            "   Unnamed: 0     name  degree  score\n",
            "0           0   aparna     MBA     90\n",
            "1           1   pankaj     BCA     40\n",
            "2           2  krishna  M.Tech     80\n",
            "3           3   sudhir     MBA     98\n",
            "value to replace: 40\n",
            "changing now\n",
            "   Unnamed: 0  Unnamed: 0.1     name  degree score\n",
            "0           0             0   aparna     MBA    90\n",
            "1           1             1   pankaj     BCA     A\n",
            "2           2             2  krishna  M.Tech    80\n",
            "3           3             3   sudhir     MBA    98\n"
          ],
          "name": "stdout"
        }
      ]
    },
    {
      "cell_type": "code",
      "metadata": {
        "colab": {
          "base_uri": "https://localhost:8080/"
        },
        "id": "z1nOmROX8i4q",
        "outputId": "c04fa709-9424-4789-c49c-55cb01365538"
      },
      "source": [
        "# Part 2 Numpy Basics\r\n",
        "#1\r\n",
        "# Write a NumPy program to create an array of 10 zeros,10 ones,\r\n",
        "# 10 fives\r\n",
        "import numpy as np\r\n",
        "array=np.zeros(10)*0\r\n",
        "print(\"An array of 10 zeros:\")\r\n",
        "print(array)\r\n",
        "array=np.ones(10)*1\r\n",
        "print(\"An array of 10 ones:\")\r\n",
        "print(array)\r\n",
        "array=np.ones(10)*5\r\n",
        "print(\"An array of 10 fives:\")\r\n",
        "print(array)\r\n"
      ],
      "execution_count": null,
      "outputs": [
        {
          "output_type": "stream",
          "text": [
            "An array of 10 zeros:\n",
            "[0. 0. 0. 0. 0. 0. 0. 0. 0. 0.]\n",
            "An array of 10 ones:\n",
            "[1. 1. 1. 1. 1. 1. 1. 1. 1. 1.]\n",
            "An array of 10 fives:\n",
            "[5. 5. 5. 5. 5. 5. 5. 5. 5. 5.]\n"
          ],
          "name": "stdout"
        }
      ]
    },
    {
      "cell_type": "code",
      "metadata": {
        "colab": {
          "base_uri": "https://localhost:8080/"
        },
        "id": "82bhxgOOZwAf",
        "outputId": "7dc7bb98-96e4-4246-fd9b-352ccf733862"
      },
      "source": [
        "#2\r\n",
        "#Write a NumPy program to create an array of all the even\r\n",
        "#integers from 10 to 50\r\n",
        "import numpy as np\r\n",
        "array=np.arange(10,50,2)\r\n",
        "print(array) "
      ],
      "execution_count": null,
      "outputs": [
        {
          "output_type": "stream",
          "text": [
            "[10 12 14 16 18 20 22 24 26 28 30 32 34 36 38 40 42 44 46 48]\n"
          ],
          "name": "stdout"
        }
      ]
    },
    {
      "cell_type": "code",
      "metadata": {
        "colab": {
          "base_uri": "https://localhost:8080/"
        },
        "id": "VceoilBAaIGu",
        "outputId": "3e2258e9-f25d-4edf-df26-60993f4c3414"
      },
      "source": [
        "#3\r\n",
        "#Write a NumPy program to generate a random number between 0 and 1\r\n",
        "import random as rand\r\n",
        "rand.uniform(0,1)\r\n"
      ],
      "execution_count": null,
      "outputs": [
        {
          "output_type": "execute_result",
          "data": {
            "text/plain": [
              "0.5710369535276596"
            ]
          },
          "metadata": {
            "tags": []
          },
          "execution_count": 14
        }
      ]
    },
    {
      "cell_type": "code",
      "metadata": {
        "colab": {
          "base_uri": "https://localhost:8080/"
        },
        "id": "nZhw8GP9a1_V",
        "outputId": "8a010f81-3b82-43e8-9d3d-71afcdc359af"
      },
      "source": [
        "#4\r\n",
        "# Write a NumPy program to save the matrix\r\n",
        "import numpy as np\r\n",
        "A=np.random.rand(2,2)\r\n",
        "print (\"actual random array is :\\n\" + str(A))\r\n",
        "np.savetxt(\"array_save.txt\",A, fmt='%f')\r\n",
        "print(\"reading from file :\\n\"+ str(np.loadtxt(\"array_save.txt\", dtype=float)))"
      ],
      "execution_count": null,
      "outputs": [
        {
          "output_type": "stream",
          "text": [
            "actual random array is :\n",
            "[[0.62396438 0.72866914]\n",
            " [0.321786   0.38656058]]\n",
            "reading from file :\n",
            "[[0.623964 0.728669]\n",
            " [0.321786 0.386561]]\n"
          ],
          "name": "stdout"
        }
      ]
    },
    {
      "cell_type": "code",
      "metadata": {
        "colab": {
          "base_uri": "https://localhost:8080/"
        },
        "id": "UCygpJYIeHga",
        "outputId": "65558efc-5f50-454a-8474-7f0675f90bd0"
      },
      "source": [
        "# Part 3\r\n",
        "# 1\r\n",
        "# Write a python program to read an image and save the image as a\r\n",
        "# matrix to a .csv file using pandas\r\n",
        "from PIL import Image\r\n",
        "from numpy import matrix\r\n",
        "import numpy as np\r\n",
        "\r\n",
        "image = Image.open(\"sample_data/Home.jpg\")\r\n",
        "image.load()\r\n",
        "imagearray = np.asarray(image)\r\n",
        "# print first two elemnts as test\r\n",
        "print(imagearray[:2])\r\n",
        "np.save(\"sample_data/imagedata.csv\",imagearray)\r\n",
        "\r\n"
      ],
      "execution_count": null,
      "outputs": [
        {
          "output_type": "stream",
          "text": [
            "[[[152 170 208]\n",
            "  [141 159 197]\n",
            "  [142 161 201]\n",
            "  ...\n",
            "  [153 180 235]\n",
            "  [154 181 236]\n",
            "  [155 182 237]]\n",
            "\n",
            " [[181 197 230]\n",
            "  [164 183 216]\n",
            "  [155 174 207]\n",
            "  ...\n",
            "  [151 181 235]\n",
            "  [152 182 236]\n",
            "  [152 182 236]]]\n"
          ],
          "name": "stdout"
        }
      ]
    },
    {
      "cell_type": "code",
      "metadata": {
        "id": "BTH6xx4Enqrv"
      },
      "source": [
        "# 2\r\n",
        "#Write a program to import excel data from the .csv file\r\n",
        "#(generated in question 1) by excluding the last row and last column\r\n",
        "import pandas as pd\r\n",
        "read_file=pd.read_csv(\"sample_data/california_housing_test.csv\")\r\n",
        "# remove the last column\r\n",
        "read_file.drop(read_file.columns[-1], axis=1, inplace=True)\r\n",
        "# remove last row\r\n",
        "read_file = read_file[:-1]\r\n",
        "read_file.to_excel ('sample_data/sample.xlsx')\r\n"
      ],
      "execution_count": null,
      "outputs": []
    },
    {
      "cell_type": "code",
      "metadata": {
        "colab": {
          "base_uri": "https://localhost:8080/"
        },
        "id": "I_UY4XD1s1cv",
        "outputId": "814a49ed-6d8d-4196-9f3f-d85bcda1b56f"
      },
      "source": [
        "import pandas as pd\r\n",
        "from datetime import date\r\n",
        "now = pd.to_datetime(str(date.today()), format='%Y-%m-%d')\r\n",
        "print(\"Today's date:\")\r\n",
        "print(now)"
      ],
      "execution_count": null,
      "outputs": [
        {
          "output_type": "stream",
          "text": [
            "Today's date:\n",
            "2021-01-10 00:00:00\n"
          ],
          "name": "stdout"
        }
      ]
    },
    {
      "cell_type": "code",
      "metadata": {
        "colab": {
          "base_uri": "https://localhost:8080/"
        },
        "id": "y1Aw9RmstHHy",
        "outputId": "45ba3f56-7d59-4c93-e729-56313f2d47a8"
      },
      "source": [
        "# Part 4\r\n",
        "# Create a mini calculator to know the age of a person after\r\n",
        "# putting the range (i.e. date of birth and current date)\r\n",
        "birth = input(\"Input your birth year :\" )\r\n",
        "birth = int(birth)\r\n",
        "today = date.today() \r\n",
        "age = today.year - birth\r\n",
        "print(age)"
      ],
      "execution_count": null,
      "outputs": [
        {
          "output_type": "stream",
          "text": [
            "Input your birth year :1981\n",
            "40\n"
          ],
          "name": "stdout"
        }
      ]
    }
  ]
}