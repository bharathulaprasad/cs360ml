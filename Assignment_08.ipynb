{
  "nbformat": 4,
  "nbformat_minor": 0,
  "metadata": {
    "colab": {
      "name": "Assignment_08.ipynb",
      "provenance": [],
      "collapsed_sections": [],
      "authorship_tag": "ABX9TyPLeJe95Ghx7S7KPJGUgvF9",
      "include_colab_link": true
    },
    "kernelspec": {
      "name": "python3",
      "display_name": "Python 3"
    },
    "language_info": {
      "name": "python"
    }
  },
  "cells": [
    {
      "cell_type": "markdown",
      "metadata": {
        "id": "view-in-github",
        "colab_type": "text"
      },
      "source": [
        "<a href=\"https://colab.research.google.com/github/bharathulaprasad/cs360ml/blob/main/Assignment_08.ipynb\" target=\"_parent\"><img src=\"https://colab.research.google.com/assets/colab-badge.svg\" alt=\"Open In Colab\"/></a>"
      ]
    },
    {
      "cell_type": "markdown",
      "metadata": {
        "id": "zZWBuKUaf_km"
      },
      "source": [
        "**Assignmnent 8**\n",
        "Q.1. Synthetic data generation and simple curve fitting\n",
        "(a) Generate a synthetic dataset as follows. The input values {x } are generated uniformly i in range [0, 1] , and the corresponding target values {yi} are obtained by first computing the corresponding values of the function sin(2Πx) , and then adding a random noise with a Gaussian distribution having standard deviation 0.3. Generate 10 such instances of (xi , yi ) . [You can use any standard module to generate random numbers as per a gaussian / normal distribution, e.g., numpy.random.normal for python.] (b) Split the dataset into two sets randomly: (i) Training Set (80%) (ii) Test Set (20%). (c) Write a code to fit a curve that minimizes squared error cost function using gradient descent (with learning rate 0.05), as discussed in class, on the training set while the model takes following form y = W Φ (x) , , . T n W ∈ R n+1 Φn(x) = [1, x, x , x ... , x ] 2 3 n Squared error is defined as J(θ) = . In your experiment, vary 1 2m ∑ m i=1 (W Φ (x) T n − y) 2 n from 1 to 9. In other words, fit 9 different curves to the training data, and hence estimate the parameters. Use the estimated W to measure squared error on the test set, and name it as test error on test data."
      ]
    },
    {
      "cell_type": "markdown",
      "metadata": {
        "id": "UZOG7CCqrcdg"
      },
      "source": [
        "**Experiment with sample dataset size of 10**"
      ]
    },
    {
      "cell_type": "code",
      "metadata": {
        "id": "ZMXiO2D7l9LJ"
      },
      "source": [
        "\n",
        "import numpy as np\n",
        "import random\n",
        "import math\n",
        "from sklearn.metrics import confusion_matrix, classification_report \n",
        "from sklearn.model_selection import train_test_split \n",
        "import matplotlib.pyplot as plt"
      ],
      "execution_count": 42,
      "outputs": []
    },
    {
      "cell_type": "code",
      "metadata": {
        "id": "5crO7g0amCRl"
      },
      "source": [
        "x1 = []\n",
        "y = []\n",
        "n = 10\n",
        "for i in range(n):\n",
        "    x1.append(random.uniform(0, 1))   \n",
        "for i in range(n):\n",
        "    noise = np.random.normal(scale= 0.3)\n",
        "#     print(noise)\n",
        "    temp = noise + math.sin(2*math.pi*x1[i])\n",
        "    y.append(temp) \n",
        "# for i in range(n):    \n",
        "#     print(\"(\", x1[i],\", \" ,y[i], \")\")\n",
        "train_error = []\n",
        "test_error = []"
      ],
      "execution_count": 43,
      "outputs": []
    },
    {
      "cell_type": "code",
      "metadata": {
        "id": "-DYgQzAjmHi4",
        "colab": {
          "base_uri": "https://localhost:8080/"
        },
        "outputId": "1549be76-4e8e-4d77-cf87-9f74e3a2b915"
      },
      "source": [
        "x_train, x_test, y_train, y_test = train_test_split(x1,y,test_size = 0.2, random_state = 42)\n",
        "x2 = []\n",
        "x3 = []\n",
        "x4 = []\n",
        "x5 = []\n",
        "x6 = []\n",
        "x7 = []\n",
        "x8 = []\n",
        "x9 = []\n",
        "n1 = int(0.8*n)\n",
        "n2 = int(0.2*n)\n",
        "for i in range(n1):\n",
        "    x2.append(x_train[i]*x_train[i])\n",
        "    x3.append(x2[i]*x_train[i])\n",
        "    x4.append(x3[i]*x_train[i])\n",
        "    x5.append(x4[i]*x_train[i])\n",
        "    x6.append(x5[i]*x_train[i])\n",
        "    x7.append(x6[i]*x_train[i])\n",
        "    x8.append(x7[i]*x_train[i])\n",
        "    x9.append(x8[i]*x_train[i])\n",
        "    \n",
        "x2_test = []\n",
        "x3_test = []\n",
        "x4_test = []\n",
        "x5_test = []\n",
        "x6_test = []\n",
        "x7_test = []\n",
        "x8_test = []\n",
        "x9_test = []\n",
        "for i in range(n2):\n",
        "    x2_test.append(x_test[i]*x_test[i])\n",
        "    x3_test.append(x2_test[i]*x_test[i])\n",
        "    x4_test.append(x3_test[i]*x_test[i])\n",
        "    x5_test.append(x4_test[i]*x_test[i])\n",
        "    x6_test.append(x5_test[i]*x_test[i])\n",
        "    x7_test.append(x6_test[i]*x_test[i])\n",
        "    x8_test.append(x7_test[i]*x_test[i])\n",
        "    x9_test.append(x8_test[i]*x_test[i])\n",
        "print(x_train[0], x2[0], x3[0], x4[0], x5[0], x6[0])"
      ],
      "execution_count": 44,
      "outputs": [
        {
          "output_type": "stream",
          "text": [
            "0.393613485457178 0.15493157593374807 0.060983157610656015 0.024003793221314747 0.00944821671403508 0.003718945512166113\n"
          ],
          "name": "stdout"
        }
      ]
    },
    {
      "cell_type": "code",
      "metadata": {
        "id": "F4SpqNlpmKxE"
      },
      "source": [
        "def cost_function(X, Y, B):\n",
        "    m = len(Y)\n",
        "    J = np.sum((X.dot(B) - Y) ** 2)/(2 * m)\n",
        "    return J"
      ],
      "execution_count": 45,
      "outputs": []
    },
    {
      "cell_type": "code",
      "metadata": {
        "id": "JA2PNK86mNkp"
      },
      "source": [
        "def gradient_descent(X, Y, B, alpha, iterations):\n",
        "    cost_history = [0] * iterations\n",
        "    m = len(Y)\n",
        "    \n",
        "    for iteration in range(iterations):\n",
        "        # Hypothesis Values\n",
        "        h = X.dot(B)\n",
        "        # Difference b/w Hypothesis and Actual Y\n",
        "        loss = h - Y\n",
        "        # Gradient Calculation\n",
        "        gradient = X.T.dot(loss) / m\n",
        "        # Changing Values of B using Gradient\n",
        "        B = B - alpha * gradient\n",
        "        # New Cost Value\n",
        "        cost = cost_function(X, Y, B)\n",
        "        cost_history[iteration] = cost\n",
        "#         print(cost)\n",
        "        \n",
        "    return B, cost_history"
      ],
      "execution_count": 46,
      "outputs": []
    },
    {
      "cell_type": "code",
      "metadata": {
        "id": "ztiNLuDymWMA"
      },
      "source": [
        "def parameterX_n(n):\n",
        "    m = len(x_train)\n",
        "    x0 = np.ones(m)\n",
        "    \n",
        "    m2 = len(x_test)\n",
        "    x0_test = np.ones(m2)\n",
        "    #Taking transpose of X matrix\n",
        "    # X = np.array([x0]).T\n",
        "    if n ==0:\n",
        "        X = np.array([x0]).T\n",
        "        B = np.array([0])\n",
        "        X_test = np.array([x0_test]).T\n",
        "    elif n==1:\n",
        "        X = np.array([x0, x_train]).T\n",
        "        B = np.array([0, 0])\n",
        "        X_test = np.array([x0_test, x_test]).T\n",
        "    elif n==2:\n",
        "        X = np.array([x0, x_train, x2]).T\n",
        "        B = np.array([0, 0, 0])\n",
        "        X_test = np.array([x0_test, x_test, x2_test]).T\n",
        "    elif n==3:\n",
        "        X = np.array([x0, x_train, x2, x3]).T\n",
        "        B = np.array([0, 0, 0, 0])\n",
        "        X_test = np.array([x0_test, x_test, x2_test, x3_test]).T\n",
        "    elif n==4:\n",
        "        X = np.array([x0, x_train, x2, x3, x4]).T\n",
        "        B = np.array([0, 0, 0, 0, 0])\n",
        "        X_test = np.array([x0_test, x_test, x2_test, x3_test, x4_test]).T\n",
        "    elif n==5:\n",
        "        X = np.array([x0, x_train, x2, x3, x4, x5]).T\n",
        "        B = np.array([0, 0, 0, 0, 0, 0])\n",
        "        X_test = np.array([x0_test, x_test, x2_test, x3_test, x4_test, x5_test]).T\n",
        "    elif n==6:\n",
        "        X = np.array([x0, x_train, x2, x3, x4, x5, x6]).T\n",
        "        B = np.array([0, 0, 0, 0, 0, 0, 0])\n",
        "        X_test = np.array([x0_test, x_test, x2_test, x3_test, x4_test, x5_test, x6_test]).T\n",
        "    elif n==7:\n",
        "        X = np.array([x0, x_train, x2, x3, x4, x5, x6, x7]).T\n",
        "        B = np.array([0, 0, 0, 0, 0, 0, 0, 0])\n",
        "        X_test = np.array([x0_test, x_test, x2_test, x3_test, x4_test, x5_test, x6_test, x7_test]).T\n",
        "    elif n==8:\n",
        "        X = np.array([x0, x_train, x2, x3, x4, x5, x6, x7, x8]).T\n",
        "        B = np.array([0, 0, 0, 0, 0, 0, 0, 0, 0])\n",
        "        X_test = np.array([x0_test, x_test, x2_test, x3_test, x4_test, x5_test, x6_test, x7_test, x8_test]).T\n",
        "    elif n==9:\n",
        "        X = np.array([x0, x_train, x2, x3, x4, x5, x6, x7, x8, x9]).T\n",
        "        B = np.array([0, 0, 0, 0, 0, 0, 0, 0, 0, 0])\n",
        "        X_test = np.array([x0_test, x_test, x2_test, x3_test, x4_test, x5_test, x6_test, x7_test, x8_test, x9_test]).T   \n",
        "    return X, B, X_test"
      ],
      "execution_count": 47,
      "outputs": []
    },
    {
      "cell_type": "markdown",
      "metadata": {
        "id": "pRcHcQjBmaNV"
      },
      "source": [
        "CASE 1: N=0,\n",
        "\n",
        "Y=b0"
      ]
    },
    {
      "cell_type": "code",
      "metadata": {
        "colab": {
          "base_uri": "https://localhost:8080/",
          "height": 265
        },
        "id": "jqqwFprKmXxL",
        "outputId": "d4899b7b-82ef-4787-eeb7-01675d0a9a7c"
      },
      "source": [
        "N=0\n",
        "X, B, X_test = parameterX_n(N)\n",
        "Y = y_train\n",
        "alpha = 0.1\n",
        "\n",
        "#Training and Training Error\n",
        "newB, cost_history = gradient_descent(X, Y, B, alpha, 100000)  # 100000 Iterations\n",
        "train_error.append(cost_history[-1])\n",
        "\n",
        "#Test Error\n",
        "test_error.append(cost_function(X_test, y_test, newB))\n",
        "\n",
        "#Learning Curve for Train Error\n",
        "time = []\n",
        "time_temp = 0\n",
        "for i in range(len(cost_history)):\n",
        "    time_temp += 1\n",
        "    time.append(time_temp)\n",
        "plt.plot(time,cost_history)\n",
        "plt.show()"
      ],
      "execution_count": 48,
      "outputs": [
        {
          "output_type": "display_data",
          "data": {
            "image/png": "[encoded data removed]",
            "text/plain": [
              "<Figure size 432x288 with 1 Axes>"
            ]
          },
          "metadata": {
            "tags": [],
            "needs_background": "light"
          }
        }
      ]
    },
    {
      "cell_type": "code",
      "metadata": {
        "colab": {
          "base_uri": "https://localhost:8080/",
          "height": 265
        },
        "id": "tBUmY_lvmrqA",
        "outputId": "d3e16b65-7716-43b9-a7df-6781d69bcbec"
      },
      "source": [
        "#Curve Fiting for N= 0\n",
        "Y_hyp = []\n",
        "X_t = []\n",
        "x_temp = 0\n",
        "for i in range(5000):\n",
        "    x_temp += .0002\n",
        "    X_t.append(x_temp)\n",
        "    Y_hyp.append(newB[0])\n",
        "plt.scatter(x1,y)\n",
        "plt.plot(X_t,Y_hyp)\n",
        "plt.show()"
      ],
      "execution_count": 49,
      "outputs": [
        {
          "output_type": "display_data",
          "data": {
            "image/png": "[encoded data removed]",
            "text/plain": [
              "<Figure size 432x288 with 1 Axes>"
            ]
          },
          "metadata": {
            "tags": [],
            "needs_background": "light"
          }
        }
      ]
    },
    {
      "cell_type": "code",
      "metadata": {
        "colab": {
          "base_uri": "https://localhost:8080/"
        },
        "id": "_IQDjY_Omw-i",
        "outputId": "de664e06-6b9e-491d-affe-e4c8e4acdb6d"
      },
      "source": [
        "newB"
      ],
      "execution_count": 50,
      "outputs": [
        {
          "output_type": "execute_result",
          "data": {
            "text/plain": [
              "array([-0.4388167])"
            ]
          },
          "metadata": {
            "tags": []
          },
          "execution_count": 50
        }
      ]
    },
    {
      "cell_type": "markdown",
      "metadata": {
        "id": "SdOxyPz5m1ag"
      },
      "source": [
        "Case 2: N = 1 \n",
        "i.e. Y = b0 + b1*x"
      ]
    },
    {
      "cell_type": "code",
      "metadata": {
        "colab": {
          "base_uri": "https://localhost:8080/",
          "height": 265
        },
        "id": "FD1VZPBNm8zy",
        "outputId": "42fb1cee-ba25-4895-853e-5e227b0f0295"
      },
      "source": [
        "N = 1\n",
        "X, B, X_test = parameterX_n(N)\n",
        "Y = y_train\n",
        "alpha = 0.1\n",
        "\n",
        "#Training and Training Error\n",
        "newB, cost_history = gradient_descent(X, Y, B, alpha, 100000)  # 100000 Iterations\n",
        "train_error.append(cost_history[-1])\n",
        "\n",
        "#Test Error\n",
        "test_error.append(cost_function(X_test, y_test, newB))\n",
        "\n",
        "#Learning Curve for Train Error\n",
        "time = []\n",
        "time_temp = 0\n",
        "for i in range(len(cost_history)):\n",
        "    time_temp += 1\n",
        "    time.append(time_temp)\n",
        "plt.plot(time,cost_history)\n",
        "plt.show()"
      ],
      "execution_count": 51,
      "outputs": [
        {
          "output_type": "display_data",
          "data": {
            "image/png": "[encoded data removed]",
            "text/plain": [
              "<Figure size 432x288 with 1 Axes>"
            ]
          },
          "metadata": {
            "tags": [],
            "needs_background": "light"
          }
        }
      ]
    },
    {
      "cell_type": "markdown",
      "metadata": {
        "id": "jbugXcPOnBQ8"
      },
      "source": [
        "Curve Fiting for N=1"
      ]
    },
    {
      "cell_type": "code",
      "metadata": {
        "colab": {
          "base_uri": "https://localhost:8080/",
          "height": 265
        },
        "id": "rcnKH6CqnE8Y",
        "outputId": "d48cb61c-17af-409f-893d-47cdb8799473"
      },
      "source": [
        "Y_hyp = []\n",
        "X_t = []\n",
        "x_temp = 0\n",
        "for i in range(5000):\n",
        "    x_temp += .0002\n",
        "    X_t.append(x_temp)\n",
        "    Y_hyp.append(newB[0]+newB[1]*x_temp)\n",
        "plt.scatter(x1,y)\n",
        "plt.plot(X_t,Y_hyp)\n",
        "plt.show()"
      ],
      "execution_count": 52,
      "outputs": [
        {
          "output_type": "display_data",
          "data": {
            "image/png": "[encoded data removed]",
            "text/plain": [
              "<Figure size 432x288 with 1 Axes>"
            ]
          },
          "metadata": {
            "tags": [],
            "needs_background": "light"
          }
        }
      ]
    },
    {
      "cell_type": "code",
      "metadata": {
        "colab": {
          "base_uri": "https://localhost:8080/"
        },
        "id": "cFvnKP0tnHuX",
        "outputId": "a9f47789-7982-4c57-81bf-dc393af8342f"
      },
      "source": [
        "newB"
      ],
      "execution_count": 53,
      "outputs": [
        {
          "output_type": "execute_result",
          "data": {
            "text/plain": [
              "array([ 1.07738864, -2.93247551])"
            ]
          },
          "metadata": {
            "tags": []
          },
          "execution_count": 53
        }
      ]
    },
    {
      "cell_type": "markdown",
      "metadata": {
        "id": "3WWexCBrnLI_"
      },
      "source": [
        "Case 3: N = 2\n",
        "i.e. Y = b0 + b1*x + b2*x2"
      ]
    },
    {
      "cell_type": "code",
      "metadata": {
        "colab": {
          "base_uri": "https://localhost:8080/",
          "height": 265
        },
        "id": "7j23EeA9nMZD",
        "outputId": "c6e5b922-2da6-4b15-b344-6f0129c4bf8b"
      },
      "source": [
        "N = 2\n",
        "X, B, X_test = parameterX_n(N)\n",
        "Y = y_train\n",
        "alpha = 0.1\n",
        "\n",
        "#Training and Training Error\n",
        "newB, cost_history = gradient_descent(X, Y, B, alpha, 100000)  # 100000 Iterations\n",
        "train_error.append(cost_history[-1])\n",
        "\n",
        "#Test Error\n",
        "test_error.append(cost_function(X_test, y_test, newB))\n",
        "\n",
        "#Learning Curve for Train Error\n",
        "time = []\n",
        "time_temp = 0\n",
        "for i in range(len(cost_history)):\n",
        "    time_temp += 1\n",
        "    time.append(time_temp)\n",
        "plt.plot(time,cost_history)\n",
        "plt.show()"
      ],
      "execution_count": 54,
      "outputs": [
        {
          "output_type": "display_data",
          "data": {
            "image/png": "[encoded data removed]",
            "text/plain": [
              "<Figure size 432x288 with 1 Axes>"
            ]
          },
          "metadata": {
            "tags": [],
            "needs_background": "light"
          }
        }
      ]
    },
    {
      "cell_type": "markdown",
      "metadata": {
        "id": "REba-Q3FnXJW"
      },
      "source": [
        "Curve Fiting for N=2"
      ]
    },
    {
      "cell_type": "code",
      "metadata": {
        "colab": {
          "base_uri": "https://localhost:8080/",
          "height": 265
        },
        "id": "_NmNrBcenX7o",
        "outputId": "ad9c1c49-bb91-49b8-e451-1cac8ce88c17"
      },
      "source": [
        "Y_hyp = []\n",
        "X_t = []\n",
        "x_temp = 0\n",
        "for i in range(5000):\n",
        "    x_temp += .0002\n",
        "    X_t.append(x_temp)\n",
        "    Y_hyp.append(newB[0]+newB[1]*x_temp+newB[2]*((x_temp)**2))\n",
        "plt.scatter(x1,y)\n",
        "plt.plot(X_t,Y_hyp, 'y')\n",
        "plt.show()"
      ],
      "execution_count": 82,
      "outputs": [
        {
          "output_type": "display_data",
          "data": {
            "image/png": "[encoded data removed]",
            "text/plain": [
              "<Figure size 432x288 with 1 Axes>"
            ]
          },
          "metadata": {
            "tags": [],
            "needs_background": "light"
          }
        }
      ]
    },
    {
      "cell_type": "code",
      "metadata": {
        "colab": {
          "base_uri": "https://localhost:8080/"
        },
        "id": "0oAWVmEWn2OD",
        "outputId": "642f9929-9c45-46c1-cbef-c452cba16fd1"
      },
      "source": [
        "newB"
      ],
      "execution_count": 56,
      "outputs": [
        {
          "output_type": "execute_result",
          "data": {
            "text/plain": [
              "array([ 0.67305028,  0.96422805, -5.14283072])"
            ]
          },
          "metadata": {
            "tags": []
          },
          "execution_count": 56
        }
      ]
    },
    {
      "cell_type": "markdown",
      "metadata": {
        "id": "CEefXs4Fn5az"
      },
      "source": [
        "Case 4: N = 3\n",
        "i.e. Y = b0 + b1*x + b2*x2 + b3*x3"
      ]
    },
    {
      "cell_type": "code",
      "metadata": {
        "colab": {
          "base_uri": "https://localhost:8080/",
          "height": 265
        },
        "id": "leVAjlgUn6ip",
        "outputId": "27c2040d-46cd-4907-b1fc-586aabf28d91"
      },
      "source": [
        "N = 3\n",
        "X, B, X_test = parameterX_n(N)\n",
        "Y = y_train\n",
        "alpha = 0.1\n",
        "\n",
        "#Training and Training Error\n",
        "newB, cost_history = gradient_descent(X, Y, B, alpha, 100000)  # 100000 Iterations\n",
        "train_error.append(cost_history[-1])\n",
        "\n",
        "#Test Error\n",
        "test_error.append(cost_function(X_test, y_test, newB))\n",
        "\n",
        "#Learning Curve for Train Error\n",
        "time = []\n",
        "time_temp = 0\n",
        "for i in range(len(cost_history)):\n",
        "    time_temp += 1\n",
        "    time.append(time_temp)\n",
        "plt.plot(time,cost_history)\n",
        "plt.show()"
      ],
      "execution_count": 57,
      "outputs": [
        {
          "output_type": "display_data",
          "data": {
            "image/png": "[encoded data removed]",
            "text/plain": [
              "<Figure size 432x288 with 1 Axes>"
            ]
          },
          "metadata": {
            "tags": [],
            "needs_background": "light"
          }
        }
      ]
    },
    {
      "cell_type": "markdown",
      "metadata": {
        "id": "BXdC2yTpoAn2"
      },
      "source": [
        "Curve Fiting for N=3"
      ]
    },
    {
      "cell_type": "code",
      "metadata": {
        "colab": {
          "base_uri": "https://localhost:8080/",
          "height": 265
        },
        "id": "Pp5xrFf3oBc5",
        "outputId": "2e67af17-981c-44c9-f2dd-2af79a26b59a"
      },
      "source": [
        "Y_hyp = []\n",
        "X_t = []\n",
        "x_temp = 0\n",
        "for i in range(5000):\n",
        "    x_temp += .0002\n",
        "    X_t.append(x_temp)\n",
        "    Y_hyp.append(newB[0]+newB[1]*x_temp+newB[2]*((x_temp)**2)+newB[3]*((x_temp)**3))\n",
        "plt.scatter(x1,y)\n",
        "plt.plot(X_t,Y_hyp, 'y' )\n",
        "plt.show()"
      ],
      "execution_count": 84,
      "outputs": [
        {
          "output_type": "display_data",
          "data": {
            "image/png": "[encoded data removed]",
            "text/plain": [
              "<Figure size 432x288 with 1 Axes>"
            ]
          },
          "metadata": {
            "tags": [],
            "needs_background": "light"
          }
        }
      ]
    },
    {
      "cell_type": "code",
      "metadata": {
        "colab": {
          "base_uri": "https://localhost:8080/"
        },
        "id": "a_Ev76nFoE3J",
        "outputId": "90035742-b9d6-4abe-f6b2-88af65c84d2c"
      },
      "source": [
        "newB"
      ],
      "execution_count": 59,
      "outputs": [
        {
          "output_type": "execute_result",
          "data": {
            "text/plain": [
              "array([ 0.69395034,  0.27962987, -2.99854105, -1.72111178])"
            ]
          },
          "metadata": {
            "tags": []
          },
          "execution_count": 59
        }
      ]
    },
    {
      "cell_type": "markdown",
      "metadata": {
        "id": "zrepmiq8oL4n"
      },
      "source": [
        "Case 5: N = 4\n",
        "i.e. Y = b0 + b1*x + b2*x2 + b3*x3 + b4*x4"
      ]
    },
    {
      "cell_type": "code",
      "metadata": {
        "colab": {
          "base_uri": "https://localhost:8080/",
          "height": 265
        },
        "id": "RUfm2vMCoMwl",
        "outputId": "abd8b79c-41e0-4812-9824-e2b85d96772e"
      },
      "source": [
        "N = 4\n",
        "X, B, X_test = parameterX_n(N)\n",
        "Y = y_train\n",
        "alpha = 0.1\n",
        "\n",
        "#Training and Training Error\n",
        "newB, cost_history = gradient_descent(X, Y, B, alpha, 100000)  # 100000 Iterations\n",
        "train_error.append(cost_history[-1])\n",
        "\n",
        "updated_B = newB\n",
        "#Test Error\n",
        "test_error.append(cost_function(X_test, y_test, newB))\n",
        "\n",
        "#Learning Curve for Train Error\n",
        "time = []\n",
        "time_temp = 0\n",
        "for i in range(len(cost_history)):\n",
        "    time_temp += 1\n",
        "    time.append(time_temp)\n",
        "plt.plot(time,cost_history)\n",
        "plt.show()"
      ],
      "execution_count": 85,
      "outputs": [
        {
          "output_type": "display_data",
          "data": {
            "image/png": "[encoded data removed]",
            "text/plain": [
              "<Figure size 432x288 with 1 Axes>"
            ]
          },
          "metadata": {
            "tags": [],
            "needs_background": "light"
          }
        }
      ]
    },
    {
      "cell_type": "markdown",
      "metadata": {
        "id": "8K6KMiasoRuX"
      },
      "source": [
        "Curve Fiting for N=4"
      ]
    },
    {
      "cell_type": "code",
      "metadata": {
        "colab": {
          "base_uri": "https://localhost:8080/",
          "height": 265
        },
        "id": "MWuaX_C-oSwG",
        "outputId": "2bc16d99-6b6a-4854-f8f3-ee115bee1eb6"
      },
      "source": [
        "Y_hyp = []\n",
        "X_t = []\n",
        "x_temp = 0\n",
        "for i in range(5000):\n",
        "    x_temp += .0002\n",
        "    X_t.append(x_temp)\n",
        "    Y_hyp.append(newB[0]+newB[1]*x_temp+newB[2]*((x_temp)**2)+newB[3]*((x_temp)**3)+newB[4]*((x_temp)**4))\n",
        "plt.scatter(x1,y)\n",
        "plt.plot(X_t,Y_hyp)\n",
        "plt.show()"
      ],
      "execution_count": 61,
      "outputs": [
        {
          "output_type": "display_data",
          "data": {
            "image/png": "[encoded data removed]",
            "text/plain": [
              "<Figure size 432x288 with 1 Axes>"
            ]
          },
          "metadata": {
            "tags": [],
            "needs_background": "light"
          }
        }
      ]
    },
    {
      "cell_type": "code",
      "metadata": {
        "colab": {
          "base_uri": "https://localhost:8080/"
        },
        "id": "C2_ycS-XoWgC",
        "outputId": "e662e3b2-3ca5-4f38-cf69-566001454af3"
      },
      "source": [
        "newB"
      ],
      "execution_count": 62,
      "outputs": [
        {
          "output_type": "execute_result",
          "data": {
            "text/plain": [
              "array([ 0.69447699,  0.34384305, -3.16351292, -1.80137164,  0.26609487])"
            ]
          },
          "metadata": {
            "tags": []
          },
          "execution_count": 62
        }
      ]
    },
    {
      "cell_type": "markdown",
      "metadata": {
        "id": "1gyd9-DsoZhr"
      },
      "source": [
        "Case 6: N = 5\n",
        "i.e. Y = b0 + b1*x + b2*x2 + b3*x3 + b4*x4 + b5*x5"
      ]
    },
    {
      "cell_type": "code",
      "metadata": {
        "colab": {
          "base_uri": "https://localhost:8080/",
          "height": 265
        },
        "id": "t1sCsxKloahk",
        "outputId": "7f609562-27e5-4271-ad97-b03d0ffc8e89"
      },
      "source": [
        "N = 5\n",
        "X, B, X_test = parameterX_n(N)\n",
        "Y = y_train\n",
        "alpha = 0.1\n",
        "\n",
        "#Training and Training Error\n",
        "newB, cost_history = gradient_descent(X, Y, B, alpha, 100000)  # 100000 Iterations\n",
        "train_error.append(cost_history[-1])\n",
        "\n",
        "#Test Error\n",
        "test_error.append(cost_function(X_test, y_test, newB))\n",
        "\n",
        "#Learning Curve for Train Error\n",
        "time = []\n",
        "time_temp = 0\n",
        "for i in range(len(cost_history)):\n",
        "    time_temp += 1\n",
        "    time.append(time_temp)\n",
        "plt.plot(time,cost_history)\n",
        "plt.show()"
      ],
      "execution_count": 86,
      "outputs": [
        {
          "output_type": "display_data",
          "data": {
            "image/png": "[encoded data removed]",
            "text/plain": [
              "<Figure size 432x288 with 1 Axes>"
            ]
          },
          "metadata": {
            "tags": [],
            "needs_background": "light"
          }
        }
      ]
    },
    {
      "cell_type": "markdown",
      "metadata": {
        "id": "gsjeC_7SomsV"
      },
      "source": [
        "Curve Fiting for N=5"
      ]
    },
    {
      "cell_type": "code",
      "metadata": {
        "colab": {
          "base_uri": "https://localhost:8080/",
          "height": 265
        },
        "id": "N_rHPKQ0oo3o",
        "outputId": "8878025d-4b21-42e5-d84f-9019721da7f9"
      },
      "source": [
        "Y_hyp = []\n",
        "X_t = []\n",
        "x_temp = 0\n",
        "for i in range(5000):\n",
        "    x_temp += .0002\n",
        "    X_t.append(x_temp)\n",
        "    Y_hyp.append(newB[0]+newB[1]*x_temp+newB[2]*((x_temp)**2)+newB[3]*((x_temp)**3)+newB[4]*((x_temp)**4)+newB[5]*((x_temp)**5))\n",
        "plt.scatter(x1,y)\n",
        "plt.plot(X_t,Y_hyp, 'g')\n",
        "plt.show()"
      ],
      "execution_count": 88,
      "outputs": [
        {
          "output_type": "display_data",
          "data": {
            "image/png": "[encoded data removed]",
            "text/plain": [
              "<Figure size 432x288 with 1 Axes>"
            ]
          },
          "metadata": {
            "tags": [],
            "needs_background": "light"
          }
        }
      ]
    },
    {
      "cell_type": "code",
      "metadata": {
        "colab": {
          "base_uri": "https://localhost:8080/"
        },
        "id": "cgrrrVe-orMS",
        "outputId": "f5713a37-a1bb-47d5-c5ca-990a0fc5f806"
      },
      "source": [
        "newB"
      ],
      "execution_count": 65,
      "outputs": [
        {
          "output_type": "execute_result",
          "data": {
            "text/plain": [
              "array([ 0.68888713,  0.52832579, -3.35801288, -2.20548492, -0.20406997,\n",
              "        1.32068855])"
            ]
          },
          "metadata": {
            "tags": []
          },
          "execution_count": 65
        }
      ]
    },
    {
      "cell_type": "markdown",
      "metadata": {
        "id": "yLI7gOUZouU4"
      },
      "source": [
        "Case 7: N = 6\n",
        "i.e. Y = b0 + b1*x + b2*x2 + b3*x3 + b4*x4 + b5*x5 + b6*x6 "
      ]
    },
    {
      "cell_type": "code",
      "metadata": {
        "colab": {
          "base_uri": "https://localhost:8080/",
          "height": 265
        },
        "id": "V4XSfbFkovKM",
        "outputId": "8eec1f04-9836-46f5-b6b3-e500b0289304"
      },
      "source": [
        "N = 6\n",
        "X, B, X_test = parameterX_n(N)\n",
        "Y = y_train\n",
        "alpha = 0.1\n",
        "\n",
        "#Training and Training Error\n",
        "newB, cost_history = gradient_descent(X, Y, B, alpha, 100000)  # 100000 Iterations\n",
        "train_error.append(cost_history[-1])\n",
        "\n",
        "#Test Error\n",
        "test_error.append(cost_function(X_test, y_test, newB))\n",
        "\n",
        "#Learning Curve for Train Error\n",
        "time = []\n",
        "time_temp = 0\n",
        "for i in range(len(cost_history)):\n",
        "    time_temp += 1\n",
        "    time.append(time_temp)\n",
        "plt.plot(time,cost_history)\n",
        "plt.show()"
      ],
      "execution_count": 66,
      "outputs": [
        {
          "output_type": "display_data",
          "data": {
            "image/png": "[encoded data removed]",
            "text/plain": [
              "<Figure size 432x288 with 1 Axes>"
            ]
          },
          "metadata": {
            "tags": [],
            "needs_background": "light"
          }
        }
      ]
    },
    {
      "cell_type": "markdown",
      "metadata": {
        "id": "F9KuXm27oz_t"
      },
      "source": [
        "Curve Fiting for N=6\n"
      ]
    },
    {
      "cell_type": "code",
      "metadata": {
        "colab": {
          "base_uri": "https://localhost:8080/",
          "height": 265
        },
        "id": "5n3nkmVWo0za",
        "outputId": "73711081-49ec-4776-a9dc-fed2340ec3c6"
      },
      "source": [
        "Y_hyp = []\n",
        "X_t = []\n",
        "x_temp = 0\n",
        "for i in range(5000):\n",
        "    x_temp += .0002\n",
        "    X_t.append(x_temp)\n",
        "    Y_hyp.append(newB[0]+newB[1]*x_temp+newB[2]*((x_temp)**2)+newB[3]*((x_temp)**3)+newB[4]*((x_temp)**4)+newB[5]*((x_temp)**5)+newB[6]*((x_temp)**6))\n",
        "plt.scatter(x1,y)\n",
        "plt.plot(X_t,Y_hyp)\n",
        "plt.show()"
      ],
      "execution_count": 67,
      "outputs": [
        {
          "output_type": "display_data",
          "data": {
            "image/png": "[encoded data removed]",
            "text/plain": [
              "<Figure size 432x288 with 1 Axes>"
            ]
          },
          "metadata": {
            "tags": [],
            "needs_background": "light"
          }
        }
      ]
    },
    {
      "cell_type": "code",
      "metadata": {
        "colab": {
          "base_uri": "https://localhost:8080/"
        },
        "id": "bC_mzyIpo4t1",
        "outputId": "ab420f9d-f727-4cde-e74b-2d0dfdd2de2a"
      },
      "source": [
        "newB"
      ],
      "execution_count": 68,
      "outputs": [
        {
          "output_type": "execute_result",
          "data": {
            "text/plain": [
              "array([ 0.68328905,  0.66060072, -3.40333936, -2.48781534, -0.62170825,\n",
              "        0.86668308,  1.74923471])"
            ]
          },
          "metadata": {
            "tags": []
          },
          "execution_count": 68
        }
      ]
    },
    {
      "cell_type": "markdown",
      "metadata": {
        "id": "z4hCQ2d0o8OW"
      },
      "source": [
        "Case 8: N = 7\n",
        "i.e. Y = b0 + b1*x + b2*x2 + b3*x3 + b4*x4 + b5*x5 + b6*x6 + b7*x7"
      ]
    },
    {
      "cell_type": "code",
      "metadata": {
        "colab": {
          "base_uri": "https://localhost:8080/",
          "height": 265
        },
        "id": "xXdG6piGo6rV",
        "outputId": "b4c70a59-ad58-4769-c375-9be89d52216e"
      },
      "source": [
        "N = 7\n",
        "X, B, X_test = parameterX_n(N)\n",
        "Y = y_train\n",
        "alpha = 0.1\n",
        "\n",
        "#Training and Training Error\n",
        "newB, cost_history = gradient_descent(X, Y, B, alpha, 100000)  # 100000 Iterations\n",
        "train_error.append(cost_history[-1])\n",
        "\n",
        "#Test Error\n",
        "test_error.append(cost_function(X_test, y_test, newB))\n",
        "\n",
        "#Learning Curve for Train Error\n",
        "time = []\n",
        "time_temp = 0\n",
        "for i in range(len(cost_history)):\n",
        "    time_temp += 1\n",
        "    time.append(time_temp)\n",
        "plt.plot(time,cost_history)\n",
        "plt.show()"
      ],
      "execution_count": 69,
      "outputs": [
        {
          "output_type": "display_data",
          "data": {
            "image/png": "[encoded data removed]",
            "text/plain": [
              "<Figure size 432x288 with 1 Axes>"
            ]
          },
          "metadata": {
            "tags": [],
            "needs_background": "light"
          }
        }
      ]
    },
    {
      "cell_type": "markdown",
      "metadata": {
        "id": "OTV2YkPNpEHG"
      },
      "source": [
        "Curve Fiting for N=7"
      ]
    },
    {
      "cell_type": "code",
      "metadata": {
        "colab": {
          "base_uri": "https://localhost:8080/",
          "height": 265
        },
        "id": "bwXqS-dPpE8c",
        "outputId": "b90dc541-c396-4d95-d86a-636cb807a9ba"
      },
      "source": [
        "Y_hyp = []\n",
        "X_t = []\n",
        "x_temp = 0\n",
        "for i in range(5000):\n",
        "    x_temp += .0002\n",
        "    X_t.append(x_temp)\n",
        "    Y_hyp.append(newB[0]+newB[1]*x_temp+newB[2]*((x_temp)**2)+newB[3]*((x_temp)**3)+newB[4]*((x_temp)**4)+newB[5]*((x_temp)**5)+newB[6]*((x_temp)**6)+newB[7]*((x_temp)**7))\n",
        "plt.scatter(x1,y)\n",
        "plt.plot(X_t,Y_hyp)\n",
        "plt.show()"
      ],
      "execution_count": 70,
      "outputs": [
        {
          "output_type": "display_data",
          "data": {
            "image/png": "[encoded data removed]",
            "text/plain": [
              "<Figure size 432x288 with 1 Axes>"
            ]
          },
          "metadata": {
            "tags": [],
            "needs_background": "light"
          }
        }
      ]
    },
    {
      "cell_type": "code",
      "metadata": {
        "colab": {
          "base_uri": "https://localhost:8080/"
        },
        "id": "MeeAV2m0pJi4",
        "outputId": "431ef388-9340-4fc6-efec-0b5ece25dc78"
      },
      "source": [
        "newB"
      ],
      "execution_count": 71,
      "outputs": [
        {
          "output_type": "execute_result",
          "data": {
            "text/plain": [
              "array([ 0.67929253,  0.72955012, -3.3657797 , -2.6382199 , -0.90660854,\n",
              "        0.52749068,  1.41286392,  1.82803953])"
            ]
          },
          "metadata": {
            "tags": []
          },
          "execution_count": 71
        }
      ]
    },
    {
      "cell_type": "markdown",
      "metadata": {
        "id": "WDPJOsifpMjy"
      },
      "source": [
        "Case 9: N = 8\n",
        "i.e. Y = b0 + b1*x + b2*x2 + b3*x3 + b4*x4 + b5*x5 + b6*x6 + b7*x7 + b8*x8"
      ]
    },
    {
      "cell_type": "code",
      "metadata": {
        "colab": {
          "base_uri": "https://localhost:8080/",
          "height": 265
        },
        "id": "3NQW2k5jpNV0",
        "outputId": "9cf0445e-0b12-4bd2-c6de-40b832d5f49c"
      },
      "source": [
        "N = 8\n",
        "X, B, X_test = parameterX_n(N)\n",
        "Y = y_train\n",
        "alpha = 0.1\n",
        "\n",
        "#Training and Training Error\n",
        "newB, cost_history = gradient_descent(X, Y, B, alpha, 100000)  # 100000 Iterations\n",
        "train_error.append(cost_history[-1])\n",
        "\n",
        "#Test Error\n",
        "test_error.append(cost_function(X_test, y_test, newB))\n",
        "\n",
        "#Learning Curve for Train Error\n",
        "time = []\n",
        "time_temp = 0\n",
        "for i in range(len(cost_history)):\n",
        "    time_temp += 1\n",
        "    time.append(time_temp)\n",
        "plt.plot(time,cost_history)\n",
        "plt.show()"
      ],
      "execution_count": 72,
      "outputs": [
        {
          "output_type": "display_data",
          "data": {
            "image/png": "[encoded data removed]",
            "text/plain": [
              "<Figure size 432x288 with 1 Axes>"
            ]
          },
          "metadata": {
            "tags": [],
            "needs_background": "light"
          }
        }
      ]
    },
    {
      "cell_type": "markdown",
      "metadata": {
        "id": "HcbUAgPApR9k"
      },
      "source": [
        "Curve Fiting for N=8"
      ]
    },
    {
      "cell_type": "code",
      "metadata": {
        "colab": {
          "base_uri": "https://localhost:8080/",
          "height": 265
        },
        "id": "8IUtWCe2pSrY",
        "outputId": "4b152e91-8f4b-40df-fc26-4e84b9a11e7f"
      },
      "source": [
        "Y_hyp = []\n",
        "X_t = []\n",
        "x_temp = 0\n",
        "for i in range(5000):\n",
        "    x_temp += .0002\n",
        "    X_t.append(x_temp)\n",
        "    Y_hyp.append(newB[0]+newB[1]*x_temp+newB[2]*((x_temp)**2)+newB[3]*((x_temp)**3)+newB[4]*((x_temp)**4)+newB[5]*((x_temp)**5)+newB[6]*((x_temp)**6)+newB[7]*((x_temp)**7)+newB[8]*((x_temp)**8))\n",
        "plt.scatter(x1,y)\n",
        "plt.plot(X_t,Y_hyp)\n",
        "plt.show()"
      ],
      "execution_count": 73,
      "outputs": [
        {
          "output_type": "display_data",
          "data": {
            "image/png": "[encoded data removed]",
            "text/plain": [
              "<Figure size 432x288 with 1 Axes>"
            ]
          },
          "metadata": {
            "tags": [],
            "needs_background": "light"
          }
        }
      ]
    },
    {
      "cell_type": "code",
      "metadata": {
        "colab": {
          "base_uri": "https://localhost:8080/"
        },
        "id": "scKNti0QpXdg",
        "outputId": "381c82e2-eeb9-4343-cda5-1fa7a388a350"
      },
      "source": [
        "newB"
      ],
      "execution_count": 74,
      "outputs": [
        {
          "output_type": "execute_result",
          "data": {
            "text/plain": [
              "array([ 0.67678184,  0.75859669, -3.30409463, -2.70815703, -1.08472035,\n",
              "        0.29812717,  1.17644161,  1.6100913 ,  1.73129894])"
            ]
          },
          "metadata": {
            "tags": []
          },
          "execution_count": 74
        }
      ]
    },
    {
      "cell_type": "markdown",
      "metadata": {
        "id": "0VCcgWrFpaqX"
      },
      "source": [
        "Case 10: N = 9\n",
        "i.e. Y = b0 + b1*x + b2*x2 + b3*x3 + b4*x4 + b5*x5 + b6*x6 + b7*x7 + b8*x8 + b9*x9"
      ]
    },
    {
      "cell_type": "code",
      "metadata": {
        "colab": {
          "base_uri": "https://localhost:8080/",
          "height": 265
        },
        "id": "vi2hcaQFpbWT",
        "outputId": "8efa51c4-c9ba-4024-e5c6-f94a884d5a85"
      },
      "source": [
        "N = 9\n",
        "X, B, X_test = parameterX_n(N)\n",
        "Y = y_train\n",
        "alpha = 0.1\n",
        "\n",
        "#Training and Training Error\n",
        "newB, cost_history = gradient_descent(X, Y, B, alpha, 100000)  # 100000 Iterations\n",
        "train_error.append(cost_history[-1])\n",
        "\n",
        "#Test Error\n",
        "test_error.append(cost_function(X_test, y_test, newB))\n",
        "\n",
        "#Learning Curve for Train Error\n",
        "time = []\n",
        "time_temp = 0\n",
        "for i in range(len(cost_history)):\n",
        "    time_temp += 1\n",
        "    time.append(time_temp)\n",
        "plt.plot(time,cost_history)\n",
        "plt.show()"
      ],
      "execution_count": 75,
      "outputs": [
        {
          "output_type": "display_data",
          "data": {
            "image/png": "[encoded data removed]",
            "text/plain": [
              "<Figure size 432x288 with 1 Axes>"
            ]
          },
          "metadata": {
            "tags": [],
            "needs_background": "light"
          }
        }
      ]
    },
    {
      "cell_type": "markdown",
      "metadata": {
        "id": "2DrLqmPkpf9h"
      },
      "source": [
        "Curve Fiting for N=9"
      ]
    },
    {
      "cell_type": "code",
      "metadata": {
        "colab": {
          "base_uri": "https://localhost:8080/",
          "height": 265
        },
        "id": "TNGdGHUrpg01",
        "outputId": "533d9924-cada-4661-ec9e-1584f815384a"
      },
      "source": [
        "Y_hyp = []\n",
        "X_t = []\n",
        "x_temp = 0\n",
        "for i in range(5000):\n",
        "    x_temp += .0002\n",
        "    X_t.append(x_temp)\n",
        "    Y_hyp.append(newB[0]+newB[1]*x_temp+newB[2]*((x_temp)**2)+newB[3]*((x_temp)**3)+newB[4]*((x_temp)**4)+newB[5]*((x_temp)**5)+newB[6]*((x_temp)**6)+newB[7]*((x_temp)**7)+newB[8]*((x_temp)**8)+newB[9]*((x_temp)**9))\n",
        "plt.scatter(x1,y)\n",
        "plt.plot(X_t,Y_hyp)\n",
        "plt.show()"
      ],
      "execution_count": 76,
      "outputs": [
        {
          "output_type": "display_data",
          "data": {
            "image/png": "[encoded data removed]",
            "text/plain": [
              "<Figure size 432x288 with 1 Axes>"
            ]
          },
          "metadata": {
            "tags": [],
            "needs_background": "light"
          }
        }
      ]
    },
    {
      "cell_type": "code",
      "metadata": {
        "colab": {
          "base_uri": "https://localhost:8080/"
        },
        "id": "fQ6foFEhpj4y",
        "outputId": "9f1ac3ed-9e6f-4c56-8376-c978ad2f96e6"
      },
      "source": [
        "newB"
      ],
      "execution_count": 77,
      "outputs": [
        {
          "output_type": "execute_result",
          "data": {
            "text/plain": [
              "array([ 0.67529418,  0.76761952, -3.24609173, -2.73688619, -1.19202893,\n",
              "        0.15005686,  1.01892143,  1.46206835,  1.60181868,  1.55336175])"
            ]
          },
          "metadata": {
            "tags": []
          },
          "execution_count": 77
        }
      ]
    },
    {
      "cell_type": "markdown",
      "metadata": {
        "id": "XEKdAGpMpn0B"
      },
      "source": [
        "Train Error vs Test Error"
      ]
    },
    {
      "cell_type": "code",
      "metadata": {
        "colab": {
          "base_uri": "https://localhost:8080/",
          "height": 295
        },
        "id": "L1frhNcVponB",
        "outputId": "468f0ea1-6243-44ef-a5d6-6d27842126dc"
      },
      "source": [
        "X_N = [0,1,2,3,4,5,6,7,8,9]\n",
        "plt.plot(X_N,train_error, 'r', label='Train Error')\n",
        "plt.plot(X_N,test_error, 'b', label='Test Error')\n",
        "plt.title('Train Error vs Test Error')\n",
        "plt.ylabel('Error')\n",
        "plt.xlabel('N')\n",
        "plt.legend()\n",
        "plt.grid()\n",
        "plt.xticks(np.arange(0, 10, step=1))\n",
        "plt.show()"
      ],
      "execution_count": 78,
      "outputs": [
        {
          "output_type": "display_data",
          "data": {
            "image/png": "[encoded data removed]",
            "text/plain": [
              "<Figure size 432x288 with 1 Axes>"
            ]
          },
          "metadata": {
            "tags": [],
            "needs_background": "light"
          }
        }
      ]
    },
    {
      "cell_type": "markdown",
      "metadata": {
        "id": "aR3VhCsFqjia"
      },
      "source": [
        "RMSE vs learning rate\n",
        "For N=4; i.e. Y = B0 + B1*X1 + B2*X2 + B3*X3 + B4*X4  "
      ]
    },
    {
      "cell_type": "code",
      "metadata": {
        "id": "LbzSHe-0qkcD"
      },
      "source": [
        "# Model Evaluation - RMSE\n",
        "def rmse(Y, Y_pred):\n",
        "    rmse = np.sqrt(sum((Y - Y_pred) ** 2) / len(Y))\n",
        "    return rmse\n",
        "\n",
        "N = 4\n",
        "X, B, X_test = parameterX_n(N)\n",
        "Y = y_train\n",
        "rmse_value = []\n",
        "\n",
        "for i in range(5):\n",
        "    if i==0:\n",
        "        alpha = 0.025\n",
        "    elif i==1:\n",
        "        alpha = 0.05\n",
        "    elif i==2:\n",
        "        alpha = 0.1\n",
        "    elif i==3:\n",
        "        alpha = 0.2\n",
        "    elif i==4:\n",
        "        alpha = 0.5\n",
        "    \n",
        "    newB, cost_history = gradient_descent(X, Y, B, alpha, 100000)\n",
        "    if alpha == 0.1:\n",
        "        final_train_cost = cost_history[-1]\n",
        "        final_test_cost = cost_function(X_test, y_test, newB)\n",
        "    Y_pred = X_test.dot(newB)\n",
        "    rmse_value.append(rmse(y_test, Y_pred))"
      ],
      "execution_count": 89,
      "outputs": []
    },
    {
      "cell_type": "code",
      "metadata": {
        "colab": {
          "base_uri": "https://localhost:8080/",
          "height": 295
        },
        "id": "PmYpq66kq1SJ",
        "outputId": "b88a7c33-d2d2-4a1a-ceee-343ffa209f02"
      },
      "source": [
        "X_N = [0.025,0.05,0.1,0.2,0.5]\n",
        "plt.plot(X_N,rmse_value)\n",
        "plt.title('Test RMSE vs Learning Rate')\n",
        "plt.ylabel('Test RMSE')\n",
        "plt.xlabel('Learning Rate')\n",
        "# plt.legend()\n",
        "plt.grid()\n",
        "plt.xticks(np.arange(0, 0.6, step=0.05))\n",
        "plt.scatter(X_N,rmse_value)\n",
        "plt.show()"
      ],
      "execution_count": 90,
      "outputs": [
        {
          "output_type": "display_data",
          "data": {
            "image/png": "[encoded data removed]",
            "text/plain": [
              "<Figure size 432x288 with 1 Axes>"
            ]
          },
          "metadata": {
            "tags": [],
            "needs_background": "light"
          }
        }
      ]
    },
    {
      "cell_type": "code",
      "metadata": {
        "colab": {
          "base_uri": "https://localhost:8080/"
        },
        "id": "j790Gq98q4tV",
        "outputId": "395ae429-8a5f-4f6a-ce24-448d40c8d0b8"
      },
      "source": [
        "print(final_train_cost, ',', final_test_cost)"
      ],
      "execution_count": 81,
      "outputs": [
        {
          "output_type": "stream",
          "text": [
            "0.02314641228863322 , 0.06476330225007365\n"
          ],
          "name": "stdout"
        }
      ]
    },
    {
      "cell_type": "markdown",
      "metadata": {
        "id": "g8SivjokrzAE"
      },
      "source": [
        "**Experiment with sample dataset size of 100**"
      ]
    },
    {
      "cell_type": "code",
      "metadata": {
        "id": "bCqp7ybMr0gC"
      },
      "source": [
        ""
      ],
      "execution_count": 81,
      "outputs": []
    },
    {
      "cell_type": "markdown",
      "metadata": {
        "id": "cYt5RrIW296Z"
      },
      "source": [
        "Q.2. Visualization of the dataset and the fitted curves\n",
        "(a) Draw separate plots of the synthetic data points generated in 1 (a), and all 9 different curves that you have fit for the given dataset in 1 (c). (b) Report squared error on both train and test data for each value of n in the form of a plot where along x-axis, vary n from 1 to 9 and along y-axis, plot both train error and test error. Explain which value of n is suitable for the synthetic dataset that you have generated and why\n"
      ]
    },
    {
      "cell_type": "markdown",
      "metadata": {
        "id": "AaBoVQX_3CsK"
      },
      "source": [
        "Case 1: N = 0\n",
        "i.e. Y = b0"
      ]
    },
    {
      "cell_type": "code",
      "metadata": {
        "colab": {
          "base_uri": "https://localhost:8080/",
          "height": 265
        },
        "id": "R3aPjTQQ3DjF",
        "outputId": "85790bb4-97a3-484a-ac57-b9839809c67b"
      },
      "source": [
        "N = 0 \n",
        "X, B, X_test = parameterX_n(N)\n",
        "Y = y_train\n",
        "alpha = 0.1\n",
        "\n",
        "#Training and Training Error\n",
        "newB, cost_history = gradient_descent(X, Y, B, alpha, 100000)  # 100000 Iterations\n",
        "train_error.append(cost_history[-1])\n",
        "\n",
        "#Test Error\n",
        "test_error.append(cost_function(X_test, y_test, newB))\n",
        "\n",
        "#Learning Curve for Train Error\n",
        "time = []\n",
        "time_temp = 0\n",
        "for i in range(len(cost_history)):\n",
        "    time_temp += 1\n",
        "    time.append(time_temp)\n",
        "plt.plot(time,cost_history)\n",
        "plt.show()"
      ],
      "execution_count": 91,
      "outputs": [
        {
          "output_type": "display_data",
          "data": {
            "image/png": "[encoded data removed]",
            "text/plain": [
              "<Figure size 432x288 with 1 Axes>"
            ]
          },
          "metadata": {
            "tags": [],
            "needs_background": "light"
          }
        }
      ]
    },
    {
      "cell_type": "markdown",
      "metadata": {
        "id": "8ToEueiU3JeC"
      },
      "source": [
        "Curve Fiting for N=0"
      ]
    },
    {
      "cell_type": "code",
      "metadata": {
        "colab": {
          "base_uri": "https://localhost:8080/",
          "height": 265
        },
        "id": "speRLqCv3KMj",
        "outputId": "d4246e79-4164-4b9c-edae-b6689586bece"
      },
      "source": [
        "#Curve Fiting\n",
        "Y_hyp = []\n",
        "X_t = []\n",
        "x_temp = 0\n",
        "for i in range(5000):\n",
        "    x_temp += .0002\n",
        "    X_t.append(x_temp)\n",
        "    Y_hyp.append(newB[0])\n",
        "plt.scatter(x1,y)\n",
        "plt.plot(X_t,Y_hyp)\n",
        "plt.show()"
      ],
      "execution_count": 92,
      "outputs": [
        {
          "output_type": "display_data",
          "data": {
            "image/png": "[encoded data removed]",
            "text/plain": [
              "<Figure size 432x288 with 1 Axes>"
            ]
          },
          "metadata": {
            "tags": [],
            "needs_background": "light"
          }
        }
      ]
    },
    {
      "cell_type": "code",
      "metadata": {
        "colab": {
          "base_uri": "https://localhost:8080/"
        },
        "id": "xRMbNfSB3OV-",
        "outputId": "dac3a5ee-9591-42ae-92a4-c228b22e5d2c"
      },
      "source": [
        "newB"
      ],
      "execution_count": 93,
      "outputs": [
        {
          "output_type": "execute_result",
          "data": {
            "text/plain": [
              "array([-0.4388167])"
            ]
          },
          "metadata": {
            "tags": []
          },
          "execution_count": 93
        }
      ]
    },
    {
      "cell_type": "markdown",
      "metadata": {
        "id": "1Ks2jvS43Rxf"
      },
      "source": [
        "Case 2: N = 1\n",
        "i.e. Y = b0 + b1*x"
      ]
    },
    {
      "cell_type": "code",
      "metadata": {
        "colab": {
          "base_uri": "https://localhost:8080/",
          "height": 265
        },
        "id": "sYA4wHHr3Sj0",
        "outputId": "464c7ac6-d659-4d7a-9cfa-9af135a5eaab"
      },
      "source": [
        "N = 1\n",
        "X, B, X_test = parameterX_n(N)\n",
        "Y = y_train\n",
        "alpha = 0.1\n",
        "\n",
        "#Training and Training Error\n",
        "newB, cost_history = gradient_descent(X, Y, B, alpha, 100000)  # 100000 Iterations\n",
        "train_error.append(cost_history[-1])\n",
        "\n",
        "#Test Error\n",
        "test_error.append(cost_function(X_test, y_test, newB))\n",
        "\n",
        "#Learning Curve for Train Error\n",
        "time = []\n",
        "time_temp = 0\n",
        "for i in range(len(cost_history)):\n",
        "    time_temp += 1\n",
        "    time.append(time_temp)\n",
        "plt.plot(time,cost_history, 'g')\n",
        "plt.show()"
      ],
      "execution_count": 94,
      "outputs": [
        {
          "output_type": "display_data",
          "data": {
            "image/png": "[encoded data removed]",
            "text/plain": [
              "<Figure size 432x288 with 1 Axes>"
            ]
          },
          "metadata": {
            "tags": [],
            "needs_background": "light"
          }
        }
      ]
    },
    {
      "cell_type": "code",
      "metadata": {
        "colab": {
          "base_uri": "https://localhost:8080/",
          "height": 265
        },
        "id": "PDbQNR483aVX",
        "outputId": "0ee6ad00-7803-46d5-df7a-11f0384d73f7"
      },
      "source": [
        "# Curve Fiting for N=1\n",
        "Y_hyp = []\n",
        "X_t = []\n",
        "x_temp = 0\n",
        "for i in range(5000):\n",
        "    x_temp += .0002\n",
        "    X_t.append(x_temp)\n",
        "    Y_hyp.append(newB[0]+newB[1]*x_temp)\n",
        "plt.scatter(x1,y)\n",
        "plt.plot(X_t,Y_hyp)\n",
        "plt.show()"
      ],
      "execution_count": 95,
      "outputs": [
        {
          "output_type": "display_data",
          "data": {
            "image/png": "[encoded data removed]",
            "text/plain": [
              "<Figure size 432x288 with 1 Axes>"
            ]
          },
          "metadata": {
            "tags": [],
            "needs_background": "light"
          }
        }
      ]
    },
    {
      "cell_type": "code",
      "metadata": {
        "colab": {
          "base_uri": "https://localhost:8080/"
        },
        "id": "DN4rYIos3fJ-",
        "outputId": "58df9a04-ac17-4c90-86be-f2f54e2580a3"
      },
      "source": [
        "newB"
      ],
      "execution_count": 96,
      "outputs": [
        {
          "output_type": "execute_result",
          "data": {
            "text/plain": [
              "array([ 1.07738864, -2.93247551])"
            ]
          },
          "metadata": {
            "tags": []
          },
          "execution_count": 96
        }
      ]
    },
    {
      "cell_type": "markdown",
      "metadata": {
        "id": "6MP7kZaA3jYA"
      },
      "source": [
        "Case 3: N = 2\n",
        "i.e. Y = b0 + b1x + b2x2"
      ]
    },
    {
      "cell_type": "code",
      "metadata": {
        "colab": {
          "base_uri": "https://localhost:8080/",
          "height": 265
        },
        "id": "fz0Im5qN3kF-",
        "outputId": "addd9b1b-d9f9-4251-e1ea-905bbb899e5f"
      },
      "source": [
        "N = 2\n",
        "X, B, X_test = parameterX_n(N)\n",
        "Y = y_train\n",
        "alpha = 0.1\n",
        "\n",
        "#Training and Training Error\n",
        "newB, cost_history = gradient_descent(X, Y, B, alpha, 100000)  # 100000 Iterations\n",
        "train_error.append(cost_history[-1])\n",
        "\n",
        "#Test Error\n",
        "test_error.append(cost_function(X_test, y_test, newB))\n",
        "\n",
        "#Learning Curve for Train Error\n",
        "time = []\n",
        "time_temp = 0\n",
        "for i in range(len(cost_history)):\n",
        "    time_temp += 1\n",
        "    time.append(time_temp)\n",
        "plt.plot(time,cost_history)\n",
        "plt.show()"
      ],
      "execution_count": 97,
      "outputs": [
        {
          "output_type": "display_data",
          "data": {
            "image/png": "[encoded data removed]",
            "text/plain": [
              "<Figure size 432x288 with 1 Axes>"
            ]
          },
          "metadata": {
            "tags": [],
            "needs_background": "light"
          }
        }
      ]
    },
    {
      "cell_type": "markdown",
      "metadata": {
        "id": "QI6m9zAa3pn-"
      },
      "source": [
        "Curve Fiting for N=2\n"
      ]
    },
    {
      "cell_type": "code",
      "metadata": {
        "colab": {
          "base_uri": "https://localhost:8080/",
          "height": 265
        },
        "id": "rpLvbYo33qhD",
        "outputId": "2671d07f-18b8-4e4a-e7fb-463db7a45e50"
      },
      "source": [
        "Y_hyp = []\n",
        "X_t = []\n",
        "x_temp = 0\n",
        "for i in range(5000):\n",
        "    x_temp += .0002\n",
        "    X_t.append(x_temp)\n",
        "    Y_hyp.append(newB[0]+newB[1]*x_temp+newB[2]*((x_temp)**2))\n",
        "plt.scatter(x1,y)\n",
        "plt.plot(X_t,Y_hyp)\n",
        "plt.show()"
      ],
      "execution_count": 98,
      "outputs": [
        {
          "output_type": "display_data",
          "data": {
            "image/png": "[encoded data removed]",
            "text/plain": [
              "<Figure size 432x288 with 1 Axes>"
            ]
          },
          "metadata": {
            "tags": [],
            "needs_background": "light"
          }
        }
      ]
    },
    {
      "cell_type": "code",
      "metadata": {
        "colab": {
          "base_uri": "https://localhost:8080/"
        },
        "id": "vdNRVNJs3upU",
        "outputId": "f4063eda-2a16-4b57-db6c-b7ebf148596c"
      },
      "source": [
        "newB"
      ],
      "execution_count": 99,
      "outputs": [
        {
          "output_type": "execute_result",
          "data": {
            "text/plain": [
              "array([ 0.67305028,  0.96422805, -5.14283072])"
            ]
          },
          "metadata": {
            "tags": []
          },
          "execution_count": 99
        }
      ]
    },
    {
      "cell_type": "markdown",
      "metadata": {
        "id": "USjr58G03xf8"
      },
      "source": [
        "Case 4: N = 3\n",
        "i.e. Y = b0 + b1x + b2x2 + b3*x3"
      ]
    },
    {
      "cell_type": "code",
      "metadata": {
        "colab": {
          "base_uri": "https://localhost:8080/",
          "height": 265
        },
        "id": "F-qxn_fe3yPd",
        "outputId": "4e86b6f8-bd33-406f-c270-2b4410299689"
      },
      "source": [
        "N = 3\n",
        "X, B, X_test = parameterX_n(N)\n",
        "Y = y_train\n",
        "alpha = 0.1\n",
        "\n",
        "#Training and Training Error\n",
        "newB, cost_history = gradient_descent(X, Y, B, alpha, 100000)  # 100000 Iterations\n",
        "train_error.append(cost_history[-1])\n",
        "\n",
        "#Test Error\n",
        "test_error.append(cost_function(X_test, y_test, newB))\n",
        "\n",
        "#Learning Curve for Train Error\n",
        "time = []\n",
        "time_temp = 0\n",
        "for i in range(len(cost_history)):\n",
        "    time_temp += 1\n",
        "    time.append(time_temp)\n",
        "plt.plot(time,cost_history)\n",
        "plt.show()"
      ],
      "execution_count": 100,
      "outputs": [
        {
          "output_type": "display_data",
          "data": {
            "image/png": "[encoded data removed]",
            "text/plain": [
              "<Figure size 432x288 with 1 Axes>"
            ]
          },
          "metadata": {
            "tags": [],
            "needs_background": "light"
          }
        }
      ]
    },
    {
      "cell_type": "markdown",
      "metadata": {
        "id": "0QPDie8k335F"
      },
      "source": [
        "Curve Fiting for N=3"
      ]
    },
    {
      "cell_type": "code",
      "metadata": {
        "colab": {
          "base_uri": "https://localhost:8080/",
          "height": 265
        },
        "id": "s0m_lvEQ34jr",
        "outputId": "a09f4304-3d68-4313-bd80-667ec22bc4f5"
      },
      "source": [
        "Y_hyp = []\n",
        "X_t = []\n",
        "x_temp = 0\n",
        "for i in range(5000):\n",
        "    x_temp += .0002\n",
        "    X_t.append(x_temp)\n",
        "    Y_hyp.append(newB[0]+newB[1]*x_temp+newB[2]*((x_temp)**2)+newB[3]*((x_temp)**3))\n",
        "plt.scatter(x1,y)\n",
        "plt.plot(X_t,Y_hyp)\n",
        "plt.show()"
      ],
      "execution_count": 101,
      "outputs": [
        {
          "output_type": "display_data",
          "data": {
            "image/png": "[encoded data removed]",
            "text/plain": [
              "<Figure size 432x288 with 1 Axes>"
            ]
          },
          "metadata": {
            "tags": [],
            "needs_background": "light"
          }
        }
      ]
    },
    {
      "cell_type": "code",
      "metadata": {
        "colab": {
          "base_uri": "https://localhost:8080/"
        },
        "id": "pi_XvWG_38qp",
        "outputId": "62b8f2f1-e3e0-4bad-dc91-110f0a961e6a"
      },
      "source": [
        "newB"
      ],
      "execution_count": 102,
      "outputs": [
        {
          "output_type": "execute_result",
          "data": {
            "text/plain": [
              "array([ 0.69395034,  0.27962987, -2.99854105, -1.72111178])"
            ]
          },
          "metadata": {
            "tags": []
          },
          "execution_count": 102
        }
      ]
    },
    {
      "cell_type": "markdown",
      "metadata": {
        "id": "-8D6XLxm3_3G"
      },
      "source": [
        "Case 5: N = 4\n",
        "i.e. Y = b0 + b1x + b2x2 + b3x3 + b4x4"
      ]
    },
    {
      "cell_type": "code",
      "metadata": {
        "colab": {
          "base_uri": "https://localhost:8080/",
          "height": 265
        },
        "id": "7HkyZP9E4Ajz",
        "outputId": "d18e8970-31c1-4aeb-b597-8521977f4d69"
      },
      "source": [
        "N = 4\n",
        "X, B, X_test = parameterX_n(N)\n",
        "Y = y_train\n",
        "alpha = 0.1\n",
        "\n",
        "#Training and Training Error\n",
        "newB, cost_history = gradient_descent(X, Y, B, alpha, 100000)  # 100000 Iterations\n",
        "train_error.append(cost_history[-1])\n",
        "\n",
        "updated_B = newB\n",
        "#Test Error\n",
        "test_error.append(cost_function(X_test, y_test, newB))\n",
        "\n",
        "#Learning Curve for Train Error\n",
        "time = []\n",
        "time_temp = 0\n",
        "for i in range(len(cost_history)):\n",
        "    time_temp += 1\n",
        "    time.append(time_temp)\n",
        "plt.plot(time,cost_history)\n",
        "plt.show()"
      ],
      "execution_count": 103,
      "outputs": [
        {
          "output_type": "display_data",
          "data": {
            "image/png": "[encoded data removed]",
            "text/plain": [
              "<Figure size 432x288 with 1 Axes>"
            ]
          },
          "metadata": {
            "tags": [],
            "needs_background": "light"
          }
        }
      ]
    },
    {
      "cell_type": "markdown",
      "metadata": {
        "id": "D0T6Xuil4I27"
      },
      "source": [
        "Curve Fiting for N=4"
      ]
    },
    {
      "cell_type": "code",
      "metadata": {
        "colab": {
          "base_uri": "https://localhost:8080/",
          "height": 265
        },
        "id": "KAt5fW7w4Jyf",
        "outputId": "32d08001-4a5c-4d72-8227-0a6cd30cd1ad"
      },
      "source": [
        "Y_hyp = []\n",
        "X_t = []\n",
        "x_temp = 0\n",
        "for i in range(5000):\n",
        "    x_temp += .0002\n",
        "    X_t.append(x_temp)\n",
        "    Y_hyp.append(newB[0]+newB[1]*x_temp+newB[2]*((x_temp)**2)+newB[3]*((x_temp)**3)+newB[4]*((x_temp)**4))\n",
        "plt.scatter(x1,y)\n",
        "plt.plot(X_t,Y_hyp)\n",
        "plt.show()"
      ],
      "execution_count": 104,
      "outputs": [
        {
          "output_type": "display_data",
          "data": {
            "image/png": "[encoded data removed]",
            "text/plain": [
              "<Figure size 432x288 with 1 Axes>"
            ]
          },
          "metadata": {
            "tags": [],
            "needs_background": "light"
          }
        }
      ]
    },
    {
      "cell_type": "code",
      "metadata": {
        "colab": {
          "base_uri": "https://localhost:8080/"
        },
        "id": "9m3VUN294Nwp",
        "outputId": "65aa1aab-30e6-4d7a-f7a4-097dd2e03219"
      },
      "source": [
        "newB"
      ],
      "execution_count": 105,
      "outputs": [
        {
          "output_type": "execute_result",
          "data": {
            "text/plain": [
              "array([ 0.69447699,  0.34384305, -3.16351292, -1.80137164,  0.26609487])"
            ]
          },
          "metadata": {
            "tags": []
          },
          "execution_count": 105
        }
      ]
    },
    {
      "cell_type": "markdown",
      "metadata": {
        "id": "AY89uMLY4Q0K"
      },
      "source": [
        "Case 6: N = 5\n",
        "i.e. Y = b0 + b1x + b2x2 + b3x3 + b4x4 + b5*x5"
      ]
    },
    {
      "cell_type": "code",
      "metadata": {
        "colab": {
          "base_uri": "https://localhost:8080/",
          "height": 265
        },
        "id": "EojC2BFU4RgL",
        "outputId": "76db80a3-2fbc-4af8-f972-5e09483b515b"
      },
      "source": [
        "N = 5\n",
        "X, B, X_test = parameterX_n(N)\n",
        "Y = y_train\n",
        "alpha = 0.1\n",
        "\n",
        "#Training and Training Error\n",
        "newB, cost_history = gradient_descent(X, Y, B, alpha, 100000)  # 100000 Iterations\n",
        "train_error.append(cost_history[-1])\n",
        "\n",
        "#Test Error\n",
        "test_error.append(cost_function(X_test, y_test, newB))\n",
        "\n",
        "#Learning Curve for Train Error\n",
        "time = []\n",
        "time_temp = 0\n",
        "for i in range(len(cost_history)):\n",
        "    time_temp += 1\n",
        "    time.append(time_temp)\n",
        "plt.plot(time,cost_history)\n",
        "plt.show()"
      ],
      "execution_count": 106,
      "outputs": [
        {
          "output_type": "display_data",
          "data": {
            "image/png": "[encoded data removed]",
            "text/plain": [
              "<Figure size 432x288 with 1 Axes>"
            ]
          },
          "metadata": {
            "tags": [],
            "needs_background": "light"
          }
        }
      ]
    },
    {
      "cell_type": "markdown",
      "metadata": {
        "id": "X4MT1SEH4XaW"
      },
      "source": [
        "Curve Fiting for N=5"
      ]
    },
    {
      "cell_type": "code",
      "metadata": {
        "colab": {
          "base_uri": "https://localhost:8080/",
          "height": 265
        },
        "id": "TSPDj8Rc4YDT",
        "outputId": "99148970-fc26-4bc8-8f90-2bde0e0feb08"
      },
      "source": [
        "Y_hyp = []\n",
        "X_t = []\n",
        "x_temp = 0\n",
        "for i in range(5000):\n",
        "    x_temp += .0002\n",
        "    X_t.append(x_temp)\n",
        "    Y_hyp.append(newB[0]+newB[1]*x_temp+newB[2]*((x_temp)**2)+newB[3]*((x_temp)**3)+newB[4]*((x_temp)**4)+newB[5]*((x_temp)**5))\n",
        "plt.scatter(x1,y)\n",
        "plt.plot(X_t,Y_hyp)\n",
        "plt.show()"
      ],
      "execution_count": 107,
      "outputs": [
        {
          "output_type": "display_data",
          "data": {
            "image/png": "[encoded data removed]",
            "text/plain": [
              "<Figure size 432x288 with 1 Axes>"
            ]
          },
          "metadata": {
            "tags": [],
            "needs_background": "light"
          }
        }
      ]
    },
    {
      "cell_type": "code",
      "metadata": {
        "colab": {
          "base_uri": "https://localhost:8080/"
        },
        "id": "mgZVB1J34cWk",
        "outputId": "7ee9ff2e-6886-4169-be1a-fb184fd94295"
      },
      "source": [
        "newB"
      ],
      "execution_count": 108,
      "outputs": [
        {
          "output_type": "execute_result",
          "data": {
            "text/plain": [
              "array([ 0.68888713,  0.52832579, -3.35801288, -2.20548492, -0.20406997,\n",
              "        1.32068855])"
            ]
          },
          "metadata": {
            "tags": []
          },
          "execution_count": 108
        }
      ]
    },
    {
      "cell_type": "code",
      "metadata": {
        "colab": {
          "base_uri": "https://localhost:8080/",
          "height": 265
        },
        "id": "cahatqPM4f7w",
        "outputId": "feb59a0d-362c-446c-afa5-3ce07a779b63"
      },
      "source": [
        "#Case 7: N = 6\n",
        "# i.e. Y = b0 + b1x + b2x2 + b3x3 + b4x4 + b5x5 + b6x6\n",
        "N = 6\n",
        "X, B, X_test = parameterX_n(N)\n",
        "Y = y_train\n",
        "alpha = 0.1\n",
        "\n",
        "#Training and Training Error\n",
        "newB, cost_history = gradient_descent(X, Y, B, alpha, 100000)  # 100000 Iterations\n",
        "train_error.append(cost_history[-1])\n",
        "\n",
        "#Test Error\n",
        "test_error.append(cost_function(X_test, y_test, newB))\n",
        "\n",
        "#Learning Curve for Train Error\n",
        "time = []\n",
        "time_temp = 0\n",
        "for i in range(len(cost_history)):\n",
        "    time_temp += 1\n",
        "    time.append(time_temp)\n",
        "plt.plot(time,cost_history)\n",
        "plt.show()"
      ],
      "execution_count": 109,
      "outputs": [
        {
          "output_type": "display_data",
          "data": {
            "image/png": "[encoded data removed]",
            "text/plain": [
              "<Figure size 432x288 with 1 Axes>"
            ]
          },
          "metadata": {
            "tags": [],
            "needs_background": "light"
          }
        }
      ]
    },
    {
      "cell_type": "markdown",
      "metadata": {
        "id": "HzpJfWVl4mru"
      },
      "source": [
        "Curve Fiting for N=6\n"
      ]
    },
    {
      "cell_type": "code",
      "metadata": {
        "colab": {
          "base_uri": "https://localhost:8080/",
          "height": 265
        },
        "id": "Gnn_YChh4nzx",
        "outputId": "f0f47c8b-8c06-49f8-bed2-269914153ba7"
      },
      "source": [
        "Y_hyp = []\n",
        "X_t = []\n",
        "x_temp = 0\n",
        "for i in range(5000):\n",
        "    x_temp += .0002\n",
        "    X_t.append(x_temp)\n",
        "    Y_hyp.append(newB[0]+newB[1]*x_temp+newB[2]*((x_temp)**2)+newB[3]*((x_temp)**3)+newB[4]*((x_temp)**4)+newB[5]*((x_temp)**5)+newB[6]*((x_temp)**6))\n",
        "plt.scatter(x1,y)\n",
        "plt.plot(X_t,Y_hyp)\n",
        "plt.show()"
      ],
      "execution_count": 110,
      "outputs": [
        {
          "output_type": "display_data",
          "data": {
            "image/png": "[encoded data removed]",
            "text/plain": [
              "<Figure size 432x288 with 1 Axes>"
            ]
          },
          "metadata": {
            "tags": [],
            "needs_background": "light"
          }
        }
      ]
    },
    {
      "cell_type": "code",
      "metadata": {
        "colab": {
          "base_uri": "https://localhost:8080/"
        },
        "id": "rvZ87kDZ4rtt",
        "outputId": "f9f681ce-4caf-47db-bdc8-f1b619872557"
      },
      "source": [
        "newB"
      ],
      "execution_count": 111,
      "outputs": [
        {
          "output_type": "execute_result",
          "data": {
            "text/plain": [
              "array([ 0.68328905,  0.66060072, -3.40333936, -2.48781534, -0.62170825,\n",
              "        0.86668308,  1.74923471])"
            ]
          },
          "metadata": {
            "tags": []
          },
          "execution_count": 111
        }
      ]
    },
    {
      "cell_type": "markdown",
      "metadata": {
        "id": "dilfM0gd4ude"
      },
      "source": [
        "Case 8: N = 7"
      ]
    },
    {
      "cell_type": "code",
      "metadata": {
        "colab": {
          "base_uri": "https://localhost:8080/",
          "height": 265
        },
        "id": "D_F6gB8_4vP8",
        "outputId": "7673b2e2-d764-475d-9352-4a311589d72e"
      },
      "source": [
        "N = 7\n",
        "X, B, X_test = parameterX_n(N)\n",
        "Y = y_train\n",
        "alpha = 0.1\n",
        "\n",
        "#Training and Training Error\n",
        "newB, cost_history = gradient_descent(X, Y, B, alpha, 100000)  # 100000 Iterations\n",
        "train_error.append(cost_history[-1])\n",
        "\n",
        "#Test Error\n",
        "test_error.append(cost_function(X_test, y_test, newB))\n",
        "\n",
        "#Learning Curve for Train Error\n",
        "time = []\n",
        "time_temp = 0\n",
        "for i in range(len(cost_history)):\n",
        "    time_temp += 1\n",
        "    time.append(time_temp)\n",
        "plt.plot(time,cost_history)\n",
        "plt.show()"
      ],
      "execution_count": 112,
      "outputs": [
        {
          "output_type": "display_data",
          "data": {
            "image/png": "[encoded data removed]",
            "text/plain": [
              "<Figure size 432x288 with 1 Axes>"
            ]
          },
          "metadata": {
            "tags": [],
            "needs_background": "light"
          }
        }
      ]
    },
    {
      "cell_type": "markdown",
      "metadata": {
        "id": "NzMo7aFP41PA"
      },
      "source": [
        "Curve Fiting for N=7"
      ]
    },
    {
      "cell_type": "code",
      "metadata": {
        "colab": {
          "base_uri": "https://localhost:8080/",
          "height": 265
        },
        "id": "1VtIJUtz413v",
        "outputId": "a88972ec-efab-4a75-e4c7-4b8f32aede53"
      },
      "source": [
        "Y_hyp = []\n",
        "X_t = []\n",
        "x_temp = 0\n",
        "for i in range(5000):\n",
        "    x_temp += .0002\n",
        "    X_t.append(x_temp)\n",
        "    Y_hyp.append(newB[0]+newB[1]*x_temp+newB[2]*((x_temp)**2)+newB[3]*((x_temp)**3)+newB[4]*((x_temp)**4)+newB[5]*((x_temp)**5)+newB[6]*((x_temp)**6)+newB[7]*((x_temp)**7))\n",
        "plt.scatter(x1,y)\n",
        "plt.plot(X_t,Y_hyp)\n",
        "plt.show()"
      ],
      "execution_count": 113,
      "outputs": [
        {
          "output_type": "display_data",
          "data": {
            "image/png": "[encoded data removed]",
            "text/plain": [
              "<Figure size 432x288 with 1 Axes>"
            ]
          },
          "metadata": {
            "tags": [],
            "needs_background": "light"
          }
        }
      ]
    },
    {
      "cell_type": "markdown",
      "metadata": {
        "id": "Eo3ABaua46JH"
      },
      "source": [
        "new"
      ]
    },
    {
      "cell_type": "code",
      "metadata": {
        "colab": {
          "base_uri": "https://localhost:8080/"
        },
        "id": "CE6sHjaR469f",
        "outputId": "ea7d5545-3a4d-4f38-e040-8f2e4f2f4016"
      },
      "source": [
        "newB"
      ],
      "execution_count": 114,
      "outputs": [
        {
          "output_type": "execute_result",
          "data": {
            "text/plain": [
              "array([ 0.67929253,  0.72955012, -3.3657797 , -2.6382199 , -0.90660854,\n",
              "        0.52749068,  1.41286392,  1.82803953])"
            ]
          },
          "metadata": {
            "tags": []
          },
          "execution_count": 114
        }
      ]
    },
    {
      "cell_type": "markdown",
      "metadata": {
        "id": "QfIGnIlH4-us"
      },
      "source": [
        "Case 9: N = 8\n",
        "i.e. Y = b0 + b1x + b2x2 + b3x3 + b4x4 + b5x5 + b6x6 + b7x7 + b8x8\n"
      ]
    },
    {
      "cell_type": "code",
      "metadata": {
        "colab": {
          "base_uri": "https://localhost:8080/",
          "height": 265
        },
        "id": "vOt_UKcY4_j4",
        "outputId": "94fadd1d-75d8-4e11-ee57-6028de59fb15"
      },
      "source": [
        "N=8\n",
        "X, B, X_test = parameterX_n(N)\n",
        "Y = y_train\n",
        "alpha = 0.1\n",
        "\n",
        "#Training and Training Error\n",
        "newB, cost_history = gradient_descent(X, Y, B, alpha, 100000)  # 100000 Iterations\n",
        "train_error.append(cost_history[-1])\n",
        "\n",
        "#Test Error\n",
        "test_error.append(cost_function(X_test, y_test, newB))\n",
        "\n",
        "#Learning Curve for Train Error\n",
        "time = []\n",
        "time_temp = 0\n",
        "for i in range(len(cost_history)):\n",
        "    time_temp += 1\n",
        "    time.append(time_temp)\n",
        "plt.plot(time,cost_history)\n",
        "plt.show()"
      ],
      "execution_count": 115,
      "outputs": [
        {
          "output_type": "display_data",
          "data": {
            "image/png": "[encoded data removed]",
            "text/plain": [
              "<Figure size 432x288 with 1 Axes>"
            ]
          },
          "metadata": {
            "tags": [],
            "needs_background": "light"
          }
        }
      ]
    },
    {
      "cell_type": "markdown",
      "metadata": {
        "id": "zWwR-W-X5QSF"
      },
      "source": [
        "Curve Fiting for N=8"
      ]
    },
    {
      "cell_type": "code",
      "metadata": {
        "colab": {
          "base_uri": "https://localhost:8080/",
          "height": 265
        },
        "id": "Hz7YoqPS5S5l",
        "outputId": "4db8fbe2-5138-4fb5-bde7-ed9235cc0dfe"
      },
      "source": [
        "Y_hyp = []\n",
        "X_t = []\n",
        "x_temp = 0\n",
        "for i in range(5000):\n",
        "    x_temp += .0002\n",
        "    X_t.append(x_temp)\n",
        "    Y_hyp.append(newB[0]+newB[1]*x_temp+newB[2]*((x_temp)**2)+newB[3]*((x_temp)**3)+newB[4]*((x_temp)**4)+newB[5]*((x_temp)**5)+newB[6]*((x_temp)**6)+newB[7]*((x_temp)**7)+newB[8]*((x_temp)**8))\n",
        "plt.scatter(x1,y)\n",
        "plt.plot(X_t,Y_hyp)\n",
        "plt.show()"
      ],
      "execution_count": 116,
      "outputs": [
        {
          "output_type": "display_data",
          "data": {
            "image/png": "[encoded data removed]",
            "text/plain": [
              "<Figure size 432x288 with 1 Axes>"
            ]
          },
          "metadata": {
            "tags": [],
            "needs_background": "light"
          }
        }
      ]
    },
    {
      "cell_type": "code",
      "metadata": {
        "colab": {
          "base_uri": "https://localhost:8080/"
        },
        "id": "ZWuSVxk65V27",
        "outputId": "5f68ab94-73bd-464a-e5e4-d649ddf7d706"
      },
      "source": [
        "newB"
      ],
      "execution_count": 117,
      "outputs": [
        {
          "output_type": "execute_result",
          "data": {
            "text/plain": [
              "array([ 0.67678184,  0.75859669, -3.30409463, -2.70815703, -1.08472035,\n",
              "        0.29812717,  1.17644161,  1.6100913 ,  1.73129894])"
            ]
          },
          "metadata": {
            "tags": []
          },
          "execution_count": 117
        }
      ]
    },
    {
      "cell_type": "markdown",
      "metadata": {
        "id": "4vbeasmZ5e_E"
      },
      "source": [
        "Case 10: N = 9 i.e. Y = b0 + b1x + b2x2 + b3x3 + b4x4 + b5x5 + b6x6 + b7x7 + b8x8 + b9*x9"
      ]
    },
    {
      "cell_type": "markdown",
      "metadata": {
        "id": "CZmEWdIa5qDz"
      },
      "source": [
        ""
      ]
    },
    {
      "cell_type": "code",
      "metadata": {
        "colab": {
          "base_uri": "https://localhost:8080/",
          "height": 265
        },
        "id": "7fDwLAhE5f5p",
        "outputId": "7e14e6e3-feb9-4f66-983b-ceb7e72d9893"
      },
      "source": [
        "N = 9\n",
        "X, B, X_test = parameterX_n(N)\n",
        "Y = y_train\n",
        "alpha = 0.1\n",
        "\n",
        "#Training and Training Error\n",
        "newB, cost_history = gradient_descent(X, Y, B, alpha, 100000)  # 100000 Iterations\n",
        "train_error.append(cost_history[-1])\n",
        "\n",
        "#Test Error\n",
        "test_error.append(cost_function(X_test, y_test, newB))\n",
        "\n",
        "#Learning Curve for Train Error\n",
        "time = []\n",
        "time_temp = 0\n",
        "for i in range(len(cost_history)):\n",
        "    time_temp += 1\n",
        "    time.append(time_temp)\n",
        "plt.plot(time,cost_history)\n",
        "plt.show()"
      ],
      "execution_count": 118,
      "outputs": [
        {
          "output_type": "display_data",
          "data": {
            "image/png": "[encoded data removed]",
            "text/plain": [
              "<Figure size 432x288 with 1 Axes>"
            ]
          },
          "metadata": {
            "tags": [],
            "needs_background": "light"
          }
        }
      ]
    },
    {
      "cell_type": "markdown",
      "metadata": {
        "id": "ojMX8S0s5sWZ"
      },
      "source": [
        "Curve Fiting for N=9"
      ]
    },
    {
      "cell_type": "code",
      "metadata": {
        "colab": {
          "base_uri": "https://localhost:8080/",
          "height": 265
        },
        "id": "TyP3-10f5tNg",
        "outputId": "9e76081e-7624-4a46-bf84-b44c8f8d33b4"
      },
      "source": [
        "Y_hyp = []\n",
        "X_t = []\n",
        "x_temp = 0\n",
        "for i in range(5000):\n",
        "    x_temp += .0002\n",
        "    X_t.append(x_temp)\n",
        "    Y_hyp.append(newB[0]+newB[1]*x_temp+newB[2]*((x_temp)**2)+newB[3]*((x_temp)**3)+newB[4]*((x_temp)**4)+newB[5]*((x_temp)**5)+newB[6]*((x_temp)**6)+newB[7]*((x_temp)**7)+newB[8]*((x_temp)**8)+newB[9]*((x_temp)**9))\n",
        "plt.scatter(x1,y)\n",
        "plt.plot(X_t,Y_hyp)\n",
        "plt.show()"
      ],
      "execution_count": 119,
      "outputs": [
        {
          "output_type": "display_data",
          "data": {
            "image/png": "[encoded data removed]",
            "text/plain": [
              "<Figure size 432x288 with 1 Axes>"
            ]
          },
          "metadata": {
            "tags": [],
            "needs_background": "light"
          }
        }
      ]
    },
    {
      "cell_type": "code",
      "metadata": {
        "colab": {
          "base_uri": "https://localhost:8080/"
        },
        "id": "AWBq2va15xsE",
        "outputId": "b99259ca-4abe-4eca-cda7-6879f3982685"
      },
      "source": [
        "newB"
      ],
      "execution_count": 120,
      "outputs": [
        {
          "output_type": "execute_result",
          "data": {
            "text/plain": [
              "array([ 0.67529418,  0.76761952, -3.24609173, -2.73688619, -1.19202893,\n",
              "        0.15005686,  1.01892143,  1.46206835,  1.60181868,  1.55336175])"
            ]
          },
          "metadata": {
            "tags": []
          },
          "execution_count": 120
        }
      ]
    },
    {
      "cell_type": "markdown",
      "metadata": {
        "id": "yTdqKici507o"
      },
      "source": [
        "Train Error vs Test Error"
      ]
    },
    {
      "cell_type": "code",
      "metadata": {
        "colab": {
          "base_uri": "https://localhost:8080/",
          "height": 295
        },
        "id": "yVbMz1z-51nn",
        "outputId": "00f1def1-dd21-4c63-dd07-3b640524c46d"
      },
      "source": [
        "import matplotlib.pyplot as plt\n",
        "\n",
        "X_N = [0,1,2,3,4,5,6,7,8,9,10,11,12,13,14,15,16,17,18,19,20,21]\n",
        "plt.plot(X_N,train_error, 'r', label='Train Error')\n",
        "plt.plot(X_N,test_error, 'b', label='Test Error')\n",
        "plt.title('Train Error vs Test Error')\n",
        "plt.ylabel('Error')\n",
        "plt.xlabel('N')\n",
        "plt.legend()\n",
        "plt.grid()\n",
        "plt.xticks(np.arange(0, 10, step=1))\n",
        "plt.show()"
      ],
      "execution_count": 124,
      "outputs": [
        {
          "output_type": "display_data",
          "data": {
            "image/png": "[encoded data removed]",
            "text/plain": [
              "<Figure size 432x288 with 1 Axes>"
            ]
          },
          "metadata": {
            "tags": [],
            "needs_background": "light"
          }
        }
      ]
    },
    {
      "cell_type": "markdown",
      "metadata": {
        "id": "CL9yoInI8eZ5"
      },
      "source": [
        "RMSE vs learning rate\n"
      ]
    },
    {
      "cell_type": "code",
      "metadata": {
        "id": "D2oLRPqF8flb"
      },
      "source": [
        "#For N=4; i.e. Y = B0 + B1X1 + B2X2 + B3X3 + B4X4\n",
        "# Model Evaluation - RMSE\n",
        "def rmse(Y, Y_pred):\n",
        "    rmse = np.sqrt(sum((Y - Y_pred) ** 2) / len(Y))\n",
        "    return rmse\n",
        "\n",
        "N = 4\n",
        "X, B, X_test = parameterX_n(N)\n",
        "Y = y_train\n",
        "rmse_value = []\n",
        "\n",
        "for i in range(5):\n",
        "    if i==0:\n",
        "        alpha = 0.025\n",
        "    elif i==1:\n",
        "        alpha = 0.05\n",
        "    elif i==2:\n",
        "        alpha = 0.1\n",
        "    elif i==3:\n",
        "        alpha = 0.2\n",
        "    elif i==4:\n",
        "        alpha = 0.5\n",
        "    \n",
        "    newB, cost_history = gradient_descent(X, Y, B, alpha, 100000)\n",
        "    if alpha == 0.1:\n",
        "        final_train_cost = cost_history[-1]\n",
        "        final_test_cost = cost_function(X_test, y_test, newB)\n",
        "    Y_pred = X_test.dot(newB)\n",
        "    rmse_value.append(rmse(y_test, Y_pred))"
      ],
      "execution_count": 125,
      "outputs": []
    },
    {
      "cell_type": "code",
      "metadata": {
        "colab": {
          "base_uri": "https://localhost:8080/",
          "height": 295
        },
        "id": "5IHBPfBy8plk",
        "outputId": "9e12310e-f5a3-4d20-ca91-c339d005b6b6"
      },
      "source": [
        "X_N = [0.025,0.05,0.1,0.2,0.5]\n",
        "plt.plot(X_N,rmse_value)\n",
        "plt.title('Test RMSE vs Learning Rate')\n",
        "plt.ylabel('Test RMSE')\n",
        "plt.xlabel('Learning Rate')\n",
        "# plt.legend()\n",
        "plt.grid()\n",
        "plt.xticks(np.arange(0, 0.6, step=0.05))\n",
        "plt.scatter(X_N,rmse_value)\n",
        "plt.show()"
      ],
      "execution_count": 126,
      "outputs": [
        {
          "output_type": "display_data",
          "data": {
            "image/png": "[encoded data removed]",
            "text/plain": [
              "<Figure size 432x288 with 1 Axes>"
            ]
          },
          "metadata": {
            "tags": [],
            "needs_background": "light"
          }
        }
      ]
    },
    {
      "cell_type": "code",
      "metadata": {
        "colab": {
          "base_uri": "https://localhost:8080/"
        },
        "id": "-CXqxYgT8syl",
        "outputId": "970d2309-d6c3-42db-9cb9-643f36d20041"
      },
      "source": [
        "print(final_train_cost, ',', final_test_cost)"
      ],
      "execution_count": 127,
      "outputs": [
        {
          "output_type": "stream",
          "text": [
            "0.02314641228863322 , 0.06476330225007365\n"
          ],
          "name": "stdout"
        }
      ]
    },
    {
      "cell_type": "markdown",
      "metadata": {
        "id": "bh2vFBWW8wrE"
      },
      "source": [
        "Q.3. Experimenting with larger training set\n",
        "Repeat the above experiment with three other datasets having size 100, 1000 and 10,000 instances (each dataset generated similarly as described in Part 1a). Draw the learning curve of how train and test error varies with increase in size of datasets (for 10, 100, 1000 and 10000 instances)."
      ]
    },
    {
      "cell_type": "code",
      "metadata": {
        "colab": {
          "base_uri": "https://localhost:8080/"
        },
        "id": "pLLuAYxR8xYI",
        "outputId": "75d3289d-0528-4762-b1da-a9e6a2489f28"
      },
      "source": [
        "import numpy as np\n",
        "import random\n",
        "import math\n",
        "from sklearn.metrics import confusion_matrix, classification_report \n",
        "from sklearn.model_selection import train_test_split \n",
        "import matplotlib.pyplot as plt\n",
        "x1 = []\n",
        "y = []\n",
        "n = 10\n",
        "for i in range(n):\n",
        "    x1.append(random.uniform(0, 1))   \n",
        "for i in range(n):\n",
        "    noise = np.random.normal(scale= 0.3)\n",
        "#     print(noise)\n",
        "    temp = noise + math.sin(2*math.pi*x1[i])\n",
        "    y.append(temp) \n",
        "# for i in range(n):    \n",
        "#     print(\"(\", x[i],\", \" ,y[i], \")\")\n",
        "train_error = []\n",
        "test_error = []\n",
        "x_train, x_test, y_train, y_test = train_test_split(x1,y,test_size = 0.2, random_state = 42)\n",
        "x2 = []\n",
        "x3 = []\n",
        "x4 = []\n",
        "x5 = []\n",
        "x6 = []\n",
        "x7 = []\n",
        "x8 = []\n",
        "x9 = []\n",
        "n1 = int(0.8*n)\n",
        "n2 = int(0.2*n)\n",
        "for i in range(n1):\n",
        "    x2.append(x_train[i]*x_train[i])\n",
        "    x3.append(x2[i]*x_train[i])\n",
        "    x4.append(x3[i]*x_train[i])\n",
        "    x5.append(x4[i]*x_train[i])\n",
        "    x6.append(x5[i]*x_train[i])\n",
        "    x7.append(x6[i]*x_train[i])\n",
        "    x8.append(x7[i]*x_train[i])\n",
        "    x9.append(x8[i]*x_train[i])\n",
        "    \n",
        "x2_test = []\n",
        "x3_test = []\n",
        "x4_test = []\n",
        "x5_test = []\n",
        "x6_test = []\n",
        "x7_test = []\n",
        "x8_test = []\n",
        "x9_test = []\n",
        "for i in range(n2):\n",
        "    x2_test.append(x_test[i]*x_test[i])\n",
        "    x3_test.append(x2_test[i]*x_test[i])\n",
        "    x4_test.append(x3_test[i]*x_test[i])\n",
        "    x5_test.append(x4_test[i]*x_test[i])\n",
        "    x6_test.append(x5_test[i]*x_test[i])\n",
        "    x7_test.append(x6_test[i]*x_test[i])\n",
        "    x8_test.append(x7_test[i]*x_test[i])\n",
        "    x9_test.append(x8_test[i]*x_test[i])\n",
        "\n",
        "print(x_train[0], x2[0], x3[0], x4[0], x5[0], x6[0])"
      ],
      "execution_count": 128,
      "outputs": [
        {
          "output_type": "stream",
          "text": [
            "0.8746022316436693 0.7649290635960867 0.6690086660702397 0.585116472333986 0.5117441724747754 0.44757259527708143\n"
          ],
          "name": "stdout"
        }
      ]
    },
    {
      "cell_type": "code",
      "metadata": {
        "id": "cRHLmGnT87wD"
      },
      "source": [
        "def cost_function(X, Y, B):\n",
        "    m = len(Y)\n",
        "    J = np.sum((X.dot(B) - Y) ** 2)/(2 * m)\n",
        "    return J"
      ],
      "execution_count": 129,
      "outputs": []
    },
    {
      "cell_type": "code",
      "metadata": {
        "id": "at_TC_Al8-lT"
      },
      "source": [
        "def gradient_descent(X, Y, B, alpha, iterations):\n",
        "    cost_history = [0] * iterations\n",
        "    m = len(Y)\n",
        "    \n",
        "    for iteration in range(iterations):\n",
        "        # Hypothesis Values\n",
        "        h = X.dot(B)\n",
        "        # Difference b/w Hypothesis and Actual Y\n",
        "        loss = h - Y\n",
        "        # Gradient Calculation\n",
        "        gradient = X.T.dot(loss) / m\n",
        "        # Changing Values of B using Gradient\n",
        "        B = B - alpha * gradient\n",
        "        # New Cost Value\n",
        "        cost = cost_function(X, Y, B)\n",
        "        cost_history[iteration] = cost\n",
        "#         print(cost)\n",
        "        \n",
        "    return B, cost_history"
      ],
      "execution_count": 130,
      "outputs": []
    },
    {
      "cell_type": "code",
      "metadata": {
        "id": "QZqrdL_d9Brh"
      },
      "source": [
        "def parameterX_n(n):\n",
        "    m = len(x_train)\n",
        "    x0 = np.ones(m)\n",
        "    \n",
        "    m2 = len(x_test)\n",
        "    x0_test = np.ones(m2)\n",
        "    #Taking transpose of X matrix\n",
        "    # X = np.array([x0]).T\n",
        "    if n ==0:\n",
        "        X = np.array([x0]).T\n",
        "        B = np.array([0])\n",
        "        X_test = np.array([x0_test]).T\n",
        "    elif n==1:\n",
        "        X = np.array([x0, x_train]).T\n",
        "        B = np.array([0, 0])\n",
        "        X_test = np.array([x0_test, x_test]).T\n",
        "    elif n==2:\n",
        "        X = np.array([x0, x_train, x2]).T\n",
        "        B = np.array([0, 0, 0])\n",
        "        X_test = np.array([x0_test, x_test, x2_test]).T\n",
        "    elif n==3:\n",
        "        X = np.array([x0, x_train, x2, x3]).T\n",
        "        B = np.array([0, 0, 0, 0])\n",
        "        X_test = np.array([x0_test, x_test, x2_test, x3_test]).T\n",
        "    elif n==4:\n",
        "        X = np.array([x0, x_train, x2, x3, x4]).T\n",
        "        B = np.array([0, 0, 0, 0, 0])\n",
        "        X_test = np.array([x0_test, x_test, x2_test, x3_test, x4_test]).T\n",
        "    elif n==5:\n",
        "        X = np.array([x0, x_train, x2, x3, x4, x5]).T\n",
        "        B = np.array([0, 0, 0, 0, 0, 0])\n",
        "        X_test = np.array([x0_test, x_test, x2_test, x3_test, x4_test, x5_test]).T\n",
        "    elif n==6:\n",
        "        X = np.array([x0, x_train, x2, x3, x4, x5, x6]).T\n",
        "        B = np.array([0, 0, 0, 0, 0, 0, 0])\n",
        "        X_test = np.array([x0_test, x_test, x2_test, x3_test, x4_test, x5_test, x6_test]).T\n",
        "    elif n==7:\n",
        "        X = np.array([x0, x_train, x2, x3, x4, x5, x6, x7]).T\n",
        "        B = np.array([0, 0, 0, 0, 0, 0, 0, 0])\n",
        "        X_test = np.array([x0_test, x_test, x2_test, x3_test, x4_test, x5_test, x6_test, x7_test]).T\n",
        "    elif n==8:\n",
        "        X = np.array([x0, x_train, x2, x3, x4, x5, x6, x7, x8]).T\n",
        "        B = np.array([0, 0, 0, 0, 0, 0, 0, 0, 0])\n",
        "        X_test = np.array([x0_test, x_test, x2_test, x3_test, x4_test, x5_test, x6_test, x7_test, x8_test]).T\n",
        "    elif n==9:\n",
        "        X = np.array([x0, x_train, x2, x3, x4, x5, x6, x7, x8, x9]).T\n",
        "        B = np.array([0, 0, 0, 0, 0, 0, 0, 0, 0, 0])\n",
        "        X_test = np.array([x0_test, x_test, x2_test, x3_test, x4_test, x5_test, x6_test, x7_test, x8_test, x9_test]).T   \n",
        "    return X, B, X_test"
      ],
      "execution_count": 131,
      "outputs": []
    },
    {
      "cell_type": "code",
      "metadata": {
        "id": "zPbbb9489FNH"
      },
      "source": [
        "N = 4\n",
        "X, B, X_test = parameterX_n(N)\n",
        "Y = y_train\n",
        "alpha = 0.1\n",
        "\n",
        "#Training and Training Error\n",
        "newB, cost_history = gradient_descent(X, Y, B, alpha, 100000)  # 100000 Iterations\n",
        "train_error.append(cost_history[-1])\n",
        "\n",
        "updated_B = newB\n",
        "#Test Error\n",
        "test_error.append(cost_function(X_test, y_test, newB))"
      ],
      "execution_count": 132,
      "outputs": []
    },
    {
      "cell_type": "markdown",
      "metadata": {
        "id": "3zDRzzm79IYQ"
      },
      "source": [
        "N = 100"
      ]
    },
    {
      "cell_type": "code",
      "metadata": {
        "id": "KwDnqfnb9I7D"
      },
      "source": [
        "x1 = []\n",
        "y = []\n",
        "n = 100\n",
        "for i in range(n):\n",
        "    x1.append(random.uniform(0, 1))   \n",
        "for i in range(n):\n",
        "    noise = np.random.normal(scale= 0.3)\n",
        "#     print(noise)\n",
        "    temp = noise + math.sin(2*math.pi*x1[i])\n",
        "    y.append(temp) \n",
        "# for i in range(n):    \n",
        "#     print(\"(\", x[i],\", \" ,y[i], \")\")"
      ],
      "execution_count": 133,
      "outputs": []
    },
    {
      "cell_type": "code",
      "metadata": {
        "colab": {
          "base_uri": "https://localhost:8080/"
        },
        "id": "7kFQdev29OAF",
        "outputId": "315a2921-7641-4bd0-d07f-448e847a85c1"
      },
      "source": [
        "x_train, x_test, y_train, y_test = train_test_split(x1,y,test_size = 0.2, random_state = 42)\n",
        "x2 = []\n",
        "x3 = []\n",
        "x4 = []\n",
        "x5 = []\n",
        "x6 = []\n",
        "x7 = []\n",
        "x8 = []\n",
        "x9 = []\n",
        "n1 = int(0.8*n)\n",
        "n2 = int(0.2*n)\n",
        "for i in range(n1):\n",
        "    x2.append(x_train[i]*x_train[i])\n",
        "    x3.append(x2[i]*x_train[i])\n",
        "    x4.append(x3[i]*x_train[i])\n",
        "    x5.append(x4[i]*x_train[i])\n",
        "    x6.append(x5[i]*x_train[i])\n",
        "    x7.append(x6[i]*x_train[i])\n",
        "    x8.append(x7[i]*x_train[i])\n",
        "    x9.append(x8[i]*x_train[i])\n",
        "    \n",
        "x2_test = []\n",
        "x3_test = []\n",
        "x4_test = []\n",
        "x5_test = []\n",
        "x6_test = []\n",
        "x7_test = []\n",
        "x8_test = []\n",
        "x9_test = []\n",
        "for i in range(n2):\n",
        "    x2_test.append(x_test[i]*x_test[i])\n",
        "    x3_test.append(x2_test[i]*x_test[i])\n",
        "    x4_test.append(x3_test[i]*x_test[i])\n",
        "    x5_test.append(x4_test[i]*x_test[i])\n",
        "    x6_test.append(x5_test[i]*x_test[i])\n",
        "    x7_test.append(x6_test[i]*x_test[i])\n",
        "    x8_test.append(x7_test[i]*x_test[i])\n",
        "    x9_test.append(x8_test[i]*x_test[i])\n",
        "\n",
        "print(x_train[0], x2[0], x3[0], x4[0], x5[0], x6[0])"
      ],
      "execution_count": 134,
      "outputs": [
        {
          "output_type": "stream",
          "text": [
            "0.9674118949020988 0.9358857743980694 0.9053870304223545 0.8758821827206741 0.8473388420967937 0.8197256748570094\n"
          ],
          "name": "stdout"
        }
      ]
    },
    {
      "cell_type": "code",
      "metadata": {
        "id": "-MgLduLp9RSV"
      },
      "source": [
        "N = 4\n",
        "X, B, X_test = parameterX_n(N)\n",
        "Y = y_train\n",
        "alpha = 0.1\n",
        "\n",
        "#Training and Training Error\n",
        "newB, cost_history = gradient_descent(X, Y, B, alpha, 100000)  # 100000 Iterations\n",
        "train_error.append(cost_history[-1])\n",
        "\n",
        "updated_B = newB\n",
        "#Test Error\n",
        "test_error.append(cost_function(X_test, y_test, newB))"
      ],
      "execution_count": 135,
      "outputs": []
    },
    {
      "cell_type": "markdown",
      "metadata": {
        "id": "0dM0ezqZ9ULF"
      },
      "source": [
        "N = 1000"
      ]
    },
    {
      "cell_type": "code",
      "metadata": {
        "id": "mYLiTkAS9Uy-"
      },
      "source": [
        "x1 = []\n",
        "y = []\n",
        "n = 1000\n",
        "for i in range(n):\n",
        "    x1.append(random.uniform(0, 1))   \n",
        "for i in range(n):\n",
        "    noise = np.random.normal(scale= 0.3)\n",
        "#     print(noise)\n",
        "    temp = noise + math.sin(2*math.pi*x1[i])\n",
        "    y.append(temp) \n",
        "# for i in range(n):    \n",
        "#     print(\"(\", x[i],\", \" ,y[i], \")\")"
      ],
      "execution_count": 136,
      "outputs": []
    },
    {
      "cell_type": "code",
      "metadata": {
        "colab": {
          "base_uri": "https://localhost:8080/"
        },
        "id": "-keZ9Bz99Z99",
        "outputId": "d7c8d1b0-40a3-4608-f093-8e0924d8cb29"
      },
      "source": [
        "x_train, x_test, y_train, y_test = train_test_split(x1,y,test_size = 0.2, random_state = 42)\n",
        "x2 = []\n",
        "x3 = []\n",
        "x4 = []\n",
        "x5 = []\n",
        "x6 = []\n",
        "x7 = []\n",
        "x8 = []\n",
        "x9 = []\n",
        "n1 = int(0.8*n)\n",
        "n2 = int(0.2*n)\n",
        "for i in range(n1):\n",
        "    x2.append(x_train[i]*x_train[i])\n",
        "    x3.append(x2[i]*x_train[i])\n",
        "    x4.append(x3[i]*x_train[i])\n",
        "    x5.append(x4[i]*x_train[i])\n",
        "    x6.append(x5[i]*x_train[i])\n",
        "    x7.append(x6[i]*x_train[i])\n",
        "    x8.append(x7[i]*x_train[i])\n",
        "    x9.append(x8[i]*x_train[i])\n",
        "    \n",
        "x2_test = []\n",
        "x3_test = []\n",
        "x4_test = []\n",
        "x5_test = []\n",
        "x6_test = []\n",
        "x7_test = []\n",
        "x8_test = []\n",
        "x9_test = []\n",
        "for i in range(n2):\n",
        "    x2_test.append(x_test[i]*x_test[i])\n",
        "    x3_test.append(x2_test[i]*x_test[i])\n",
        "    x4_test.append(x3_test[i]*x_test[i])\n",
        "    x5_test.append(x4_test[i]*x_test[i])\n",
        "    x6_test.append(x5_test[i]*x_test[i])\n",
        "    x7_test.append(x6_test[i]*x_test[i])\n",
        "    x8_test.append(x7_test[i]*x_test[i])\n",
        "    x9_test.append(x8_test[i]*x_test[i])\n",
        "\n",
        "print(x_train[0], x2[0], x3[0], x4[0], x5[0], x6[0])"
      ],
      "execution_count": 137,
      "outputs": [
        {
          "output_type": "stream",
          "text": [
            "0.8560385691639133 0.7328020318962 0.6273068028648314 0.5369988179511993 0.4596916997616574 0.3935138249204964\n"
          ],
          "name": "stdout"
        }
      ]
    },
    {
      "cell_type": "code",
      "metadata": {
        "id": "nwNcQTyD9ag9"
      },
      "source": [
        "N = 4\n",
        "X, B, X_test = parameterX_n(N)\n",
        "Y = y_train\n",
        "alpha = 0.1\n",
        "\n",
        "#Training and Training Error\n",
        "newB, cost_history = gradient_descent(X, Y, B, alpha, 100000)  # 100000 Iterations\n",
        "train_error.append(cost_history[-1])\n",
        "\n",
        "updated_B = newB\n",
        "#Test Error\n",
        "test_error.append(cost_function(X_test, y_test, newB))"
      ],
      "execution_count": 138,
      "outputs": []
    },
    {
      "cell_type": "markdown",
      "metadata": {
        "id": "MCeOiSzN9fKd"
      },
      "source": [
        "N = 10000"
      ]
    },
    {
      "cell_type": "code",
      "metadata": {
        "id": "OK21qKW09hUD"
      },
      "source": [
        "x1 = []\n",
        "y = []\n",
        "n = 10000\n",
        "for i in range(n):\n",
        "    x1.append(random.uniform(0, 1))   \n",
        "for i in range(n):\n",
        "    noise = np.random.normal(scale= 0.3)\n",
        "#     print(noise)\n",
        "    temp = noise + math.sin(2*math.pi*x1[i])\n",
        "    y.append(temp) \n",
        "# for i in range(n):    \n",
        "#     print(\"(\", x[i],\", \" ,y[i], \")\")"
      ],
      "execution_count": 139,
      "outputs": []
    },
    {
      "cell_type": "code",
      "metadata": {
        "colab": {
          "base_uri": "https://localhost:8080/"
        },
        "id": "4CEGYFHh9nAZ",
        "outputId": "6e60a67f-1b77-45a7-9217-b0dd268474fb"
      },
      "source": [
        "x_train, x_test, y_train, y_test = train_test_split(x1,y,test_size = 0.2, random_state = 42)\n",
        "x2 = []\n",
        "x3 = []\n",
        "x4 = []\n",
        "x5 = []\n",
        "x6 = []\n",
        "x7 = []\n",
        "x8 = []\n",
        "x9 = []\n",
        "n1 = int(0.8*n)\n",
        "n2 = int(0.2*n)\n",
        "for i in range(n1):\n",
        "    x2.append(x_train[i]*x_train[i])\n",
        "    x3.append(x2[i]*x_train[i])\n",
        "    x4.append(x3[i]*x_train[i])\n",
        "    x5.append(x4[i]*x_train[i])\n",
        "    x6.append(x5[i]*x_train[i])\n",
        "    x7.append(x6[i]*x_train[i])\n",
        "    x8.append(x7[i]*x_train[i])\n",
        "    x9.append(x8[i]*x_train[i])\n",
        "    \n",
        "x2_test = []\n",
        "x3_test = []\n",
        "x4_test = []\n",
        "x5_test = []\n",
        "x6_test = []\n",
        "x7_test = []\n",
        "x8_test = []\n",
        "x9_test = []\n",
        "for i in range(n2):\n",
        "    x2_test.append(x_test[i]*x_test[i])\n",
        "    x3_test.append(x2_test[i]*x_test[i])\n",
        "    x4_test.append(x3_test[i]*x_test[i])\n",
        "    x5_test.append(x4_test[i]*x_test[i])\n",
        "    x6_test.append(x5_test[i]*x_test[i])\n",
        "    x7_test.append(x6_test[i]*x_test[i])\n",
        "    x8_test.append(x7_test[i]*x_test[i])\n",
        "    x9_test.append(x8_test[i]*x_test[i])\n",
        "\n",
        "print(x_train[0], x2[0], x3[0], x4[0], x5[0], x6[0])"
      ],
      "execution_count": 140,
      "outputs": [
        {
          "output_type": "stream",
          "text": [
            "0.9311871417635204 0.8671094929857146 0.8074412103693829 0.751878872825943 0.7001399385391673 0.6519613082027741\n"
          ],
          "name": "stdout"
        }
      ]
    },
    {
      "cell_type": "code",
      "metadata": {
        "id": "1_nDhLAU9nhG"
      },
      "source": [
        "N = 4\n",
        "X, B, X_test = parameterX_n(N)\n",
        "Y = y_train\n",
        "alpha = 0.1\n",
        "\n",
        "#Training and Training Error\n",
        "newB, cost_history = gradient_descent(X, Y, B, alpha, 100000)  # 100000 Iterations\n",
        "train_error.append(cost_history[-1])\n",
        "\n",
        "updated_B = newB\n",
        "#Test Error\n",
        "test_error.append(cost_function(X_test, y_test, newB))"
      ],
      "execution_count": null,
      "outputs": []
    },
    {
      "cell_type": "code",
      "metadata": {
        "id": "QUkXJwLu9p5K"
      },
      "source": [
        "import pylab\n",
        "X_N = [10,100,1000,10000]\n",
        "fig = plt.figure()\n",
        "ax = fig.add_subplot(111)\n",
        "plt.plot(X_N,train_error, 'b', label='Train Error')\n",
        "plt.plot(X_N,test_error, 'r', label='Test Error')\n",
        "plt.scatter(X_N,train_error)\n",
        "plt.scatter(X_N,test_error)\n",
        "plt.title('Error variation with size of dataset')\n",
        "plt.ylabel('Error')\n",
        "plt.xlabel('Size of dataset')\n",
        "plt.legend()\n",
        "plt.grid()\n",
        "ax.set_xscale('log')\n",
        "# plt.xticks(np.arange(1, 5, step=1))\n",
        "plt.show()"
      ],
      "execution_count": null,
      "outputs": []
    }
  ]
}