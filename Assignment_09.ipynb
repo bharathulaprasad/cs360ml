{
  "nbformat": 4,
  "nbformat_minor": 0,
  "metadata": {
    "colab": {
      "name": "Assignment_09.ipynb",
      "provenance": [],
      "collapsed_sections": [],
      "authorship_tag": "ABX9TyOvMm86RHMmKSMBs5dRiZx6",
      "include_colab_link": true
    },
    "kernelspec": {
      "name": "python3",
      "display_name": "Python 3"
    },
    "language_info": {
      "name": "python"
    }
  },
  "cells": [
    {
      "cell_type": "markdown",
      "metadata": {
        "id": "view-in-github",
        "colab_type": "text"
      },
      "source": [
        "<a href=\"https://colab.research.google.com/github/bharathulaprasad/cs360ml/blob/main/Assignment_09.ipynb\" target=\"_parent\"><img src=\"https://colab.research.google.com/assets/colab-badge.svg\" alt=\"Open In Colab\"/></a>"
      ]
    },
    {
      "cell_type": "code",
      "metadata": {
        "id": "YrE8v4sLTv5K"
      },
      "source": [
        "#!/usr/bin/env python\n",
        "from keras.datasets.mnist import load_data\n",
        "(train_digits, train_labels),(test_digits, test_labels) = load_data()\n"
      ],
      "execution_count": null,
      "outputs": []
    },
    {
      "cell_type": "code",
      "metadata": {
        "colab": {
          "base_uri": "https://localhost:8080/",
          "height": 261
        },
        "id": "BWpUy0qcWw6B",
        "outputId": "3f7c7608-a533-45a4-cb9a-8331408fc1a4"
      },
      "source": [
        "import numpy as np\n",
        "import matplotlib.pyplot as plt\n",
        "np.random.seed(456)\n",
        "rand_14 = np.random.randint(0, train_digits.shape[0],14)\n",
        "sample_digits = train_digits[rand_14]\n",
        "sample_labels = train_labels[rand_14]\n",
        "\n",
        "num_rows, num_cols =2,7\n",
        "f, ax = plt.subplots(num_rows, num_cols, figsize=(12,5), gridspec_kw={'wspace':0.03, 'hspace': 0.01}, squeeze = True)\n",
        "\n",
        "for r in range(num_rows):\n",
        "  for c in range(num_cols):\n",
        "    image_index= r * 7 +c\n",
        "    ax[r,c].axis(\"off\")\n",
        "    ax[r,c].imshow(sample_digits[image_index], cmap='gray')\n",
        "plt.show()\n",
        "plt.close()\n"
      ],
      "execution_count": null,
      "outputs": [
        {
          "output_type": "display_data",
          "data": {
            "image/png": "[encoded data removed]",
            "text/plain": [
              "<Figure size 864x360 with 14 Axes>"
            ]
          },
          "metadata": {
            "tags": [],
            "needs_background": "light"
          }
        }
      ]
    }
  ]
}