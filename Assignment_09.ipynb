{
  "nbformat": 4,
  "nbformat_minor": 0,
  "metadata": {
    "colab": {
      "name": "namrata9.ipynb",
      "provenance": [],
      "include_colab_link": true
    },
    "kernelspec": {
      "name": "python3",
      "display_name": "Python 3"
    },
    "language_info": {
      "name": "python"
    }
  },
  "cells": [
    {
      "cell_type": "markdown",
      "metadata": {
        "id": "view-in-github",
        "colab_type": "text"
      },
      "source": [
        "<a href=\"https://colab.research.google.com/github/bharathulaprasad/cs360ml/blob/main/Assignment_09.ipynb\" target=\"_parent\"><img src=\"https://colab.research.google.com/assets/colab-badge.svg\" alt=\"Open In Colab\"/></a>"
      ]
    },
    {
      "cell_type": "code",
      "metadata": {
        "id": "SmfJDGSG2SFw"
      },
      "source": [
        "#Classify the MNIST image datasets using deep convolution neural networks. \n",
        "#Identify the optimal number of convolution layers and report a graph by varying the number of convolution layers (1 to 5) against accuracy. \n",
        "#Use Fully connected layer: You can use 1 to 3 numbers of the fully connected layer and examine the changes in accuracy. \n",
        "#For classification, you are allowed to use the softmax classification layer. \n",
        "#Implement the 50% dropout technique in your fully-connected layer. Give some optimal mini-batch size and learning rate.\n",
        "#Save your trained model.\n",
        "\n",
        "from keras.datasets import mnist\n",
        "from keras.models import Sequential\n",
        "from keras.layers import Dense, Dropout\n",
        "from keras.optimizers import SGD\n",
        "from keras.utils import np_utils\n",
        "from matplotlib import pyplot\n",
        "import numpy as np\n",
        "from keras.utils import to_categorical\n",
        "from keras.layers import Conv2D, MaxPool2D, Flatten, Dense, InputLayer, BatchNormalization, Dropout\n",
        "from keras.datasets.mnist import load_data\n",
        "from numpy import mean\n",
        "from numpy import std"
      ],
      "execution_count": null,
      "outputs": []
    },
    {
      "cell_type": "code",
      "metadata": {
        "colab": {
          "base_uri": "https://localhost:8080/"
        },
        "id": "b-AncnEOCBls",
        "outputId": "10a005a4-e731-4490-8e29-e92c0d881cc4"
      },
      "source": [
        "# loading the dataset\n",
        "def load_data():\n",
        "  (X_train, y_train), (X_test, y_test) = mnist.load_data()\n",
        "  # reshape dataset to have a single channel\n",
        "  X_train = X_train.reshape((X_train.shape[0], 28, 28, 1))\n",
        "  X_test = X_test.reshape((X_test.shape[0], 28, 28, 1))\n",
        "\t# one hot encode target values\n",
        "  y_train = to_categorical(y_train)\n",
        "  y_test = to_categorical(y_test)\n",
        "  return X_train, y_train, X_test, y_test\n",
        "# let's print the shape of the dataset\n",
        "print(\"X_train shape\", X_train.shape)\n",
        "print(\"y_train shape\", y_train.shape)\n",
        "print(\"X_test shape\", X_test.shape)\n",
        "print(\"y_test shape\", y_test.shape)"
      ],
      "execution_count": null,
      "outputs": [
        {
          "output_type": "stream",
          "text": [
            "X_train shape (60000, 784)\n",
            "y_train shape (60000,)\n",
            "X_test shape (10000, 784)\n",
            "y_test shape (10000,)\n"
          ],
          "name": "stdout"
        }
      ]
    },
    {
      "cell_type": "code",
      "metadata": {
        "id": "AB3eALicm1NY"
      },
      "source": [
        "# Flattening the images from the 28x28 pixels to 1D 787 pixels\n",
        "X_train = X_train.reshape(60000, 784)\n",
        "X_test = X_test.reshape(10000, 784)\n",
        "X_train = X_train.astype('float32')\n",
        "X_test = X_test.astype('float32')\n"
      ],
      "execution_count": null,
      "outputs": []
    },
    {
      "cell_type": "code",
      "metadata": {
        "id": "y533hv4ym7l8"
      },
      "source": [
        "# normalizing the data to help with the training\n",
        "X_train /= 255\n",
        "X_test /= 255"
      ],
      "execution_count": null,
      "outputs": []
    },
    {
      "cell_type": "code",
      "metadata": {
        "colab": {
          "base_uri": "https://localhost:8080/"
        },
        "id": "72GcmTnKnGMP",
        "outputId": "a999c9fa-e7a0-4c2e-bd78-a53c13a8fd64"
      },
      "source": [
        "# one-hot encoding using keras' numpy-related utilities\n",
        "n_classes = 10\n",
        "print(\"Shape before one-hot encoding: \", y_train.shape)\n",
        "y_train = np_utils.to_categorical(y_train, n_classes)\n",
        "y_test = np_utils.to_categorical(y_test, n_classes)\n",
        "print(\"Shape after one-hot encoding: \", y_train.shape)"
      ],
      "execution_count": null,
      "outputs": [
        {
          "output_type": "stream",
          "text": [
            "Shape before one-hot encoding:  (60000,)\n",
            "Shape after one-hot encoding:  (60000, 10)\n"
          ],
          "name": "stdout"
        }
      ]
    },
    {
      "cell_type": "code",
      "metadata": {
        "id": "Ulb06ZkZl2LP"
      },
      "source": [
        "# create model\n",
        "model = Sequential()\n",
        "# convolutional layer\n",
        "model.add(Conv2D(50, kernel_size=(3,3), strides=(1,1), padding='same', activation='relu', input_shape=(32, 32, 3)))\n",
        "\n",
        "# convolutional layer\n",
        "model.add(Conv2D(75, kernel_size=(3,3), strides=(1,1), padding='same', activation='relu'))\n",
        "model.add(MaxPool2D(pool_size=(2,2)))\n",
        "model.add(Dropout(0.5))\n",
        "\n",
        "model.add(Conv2D(125, kernel_size=(3,3), strides=(1,1), padding='same', activation='relu'))\n",
        "model.add(MaxPool2D(pool_size=(2,2)))\n",
        "model.add(Dropout(0.5))\n",
        "\n",
        "# flatten output of conv\n",
        "model.add(Flatten())\n",
        "\n",
        "# hidden layer\n",
        "model.add(Dense(500, activation='relu'))\n",
        "model.add(Dropout(0.4))\n",
        "model.add(Dense(250, activation='relu'))\n",
        "model.add(Dropout(0.3))\n",
        "# output layer\n",
        "model.add(Dense(10, activation='softmax'))\n",
        "\n"
      ],
      "execution_count": null,
      "outputs": []
    },
    {
      "cell_type": "code",
      "metadata": {
        "colab": {
          "base_uri": "https://localhost:8080/"
        },
        "id": "3QYTh4cImUYJ",
        "outputId": "bf20c811-7b6e-4920-a3ec-978a5a59f85b"
      },
      "source": [
        "# looking at the model summary\n",
        "model.summary()\n",
        "# compiling the sequential model\n",
        "model.compile(loss='categorical_crossentropy', metrics=['accuracy'], optimizer='adam')\n"
      ],
      "execution_count": null,
      "outputs": [
        {
          "output_type": "stream",
          "text": [
            "Model: \"sequential_20\"\n",
            "_________________________________________________________________\n",
            "Layer (type)                 Output Shape              Param #   \n",
            "=================================================================\n",
            "conv2d_31 (Conv2D)           (None, 32, 32, 50)        1400      \n",
            "_________________________________________________________________\n",
            "conv2d_32 (Conv2D)           (None, 32, 32, 75)        33825     \n",
            "_________________________________________________________________\n",
            "max_pooling2d_22 (MaxPooling (None, 16, 16, 75)        0         \n",
            "_________________________________________________________________\n",
            "dropout_21 (Dropout)         (None, 16, 16, 75)        0         \n",
            "_________________________________________________________________\n",
            "conv2d_33 (Conv2D)           (None, 16, 16, 125)       84500     \n",
            "_________________________________________________________________\n",
            "max_pooling2d_23 (MaxPooling (None, 8, 8, 125)         0         \n",
            "_________________________________________________________________\n",
            "dropout_22 (Dropout)         (None, 8, 8, 125)         0         \n",
            "_________________________________________________________________\n",
            "flatten_9 (Flatten)          (None, 8000)              0         \n",
            "_________________________________________________________________\n",
            "dense_36 (Dense)             (None, 500)               4000500   \n",
            "_________________________________________________________________\n",
            "dropout_23 (Dropout)         (None, 500)               0         \n",
            "_________________________________________________________________\n",
            "dense_37 (Dense)             (None, 250)               125250    \n",
            "_________________________________________________________________\n",
            "dropout_24 (Dropout)         (None, 250)               0         \n",
            "_________________________________________________________________\n",
            "dense_38 (Dense)             (None, 10)                2510      \n",
            "=================================================================\n",
            "Total params: 4,247,985\n",
            "Trainable params: 4,247,985\n",
            "Non-trainable params: 0\n",
            "_________________________________________________________________\n"
          ],
          "name": "stdout"
        }
      ]
    },
    {
      "cell_type": "code",
      "metadata": {
        "id": "KhrAv4btCIj_"
      },
      "source": [
        "import numpy as np\n",
        "np.random.seed(123)\n",
        "\n",
        "rand_14 = np.random.randint(0, train_digits.shape[0],14)\n",
        "sample_digits = train_digits[rand_14]\n",
        "sample_labels = train_labels[rand_14]"
      ],
      "execution_count": null,
      "outputs": []
    },
    {
      "cell_type": "code",
      "metadata": {
        "colab": {
          "base_uri": "https://localhost:8080/",
          "height": 303
        },
        "id": "ge2S8S3MpZxA",
        "outputId": "8e304e99-15de-486e-b06e-6eb779e13d4f"
      },
      "source": [
        "# Display some images\n",
        "\n",
        "# load dataset\n",
        "(X_train, y_train), (X_test, y_test) = mnist.load_data()\n",
        "# summarize loaded dataset\n",
        "print('Train: X=%s, y=%s' % (X_train.shape, y_train.shape))\n",
        "print('Test: X=%s, y=%s' % (X_test.shape, y_test.shape))\n",
        "# plot first few images\n",
        "for i in range(9):\n",
        "\t# define subplot\n",
        "\tpyplot.subplot(330 + 1 + i)\n",
        "\t# plot raw pixel data\n",
        "\tpyplot.imshow(X_train[i], cmap=pyplot.get_cmap('gray'))\n",
        "# show the figure\n",
        "pyplot.show()\n"
      ],
      "execution_count": null,
      "outputs": [
        {
          "output_type": "stream",
          "text": [
            "Train: X=(60000, 28, 28), y=(60000,)\n",
            "Test: X=(10000, 28, 28), y=(10000,)\n"
          ],
          "name": "stdout"
        },
        {
          "output_type": "display_data",
          "data": {
            "image/png": "[encoded data removed]",
            "text/plain": [
              "<Figure size 432x288 with 9 Axes>"
            ]
          },
          "metadata": {
            "tags": []
          }
        }
      ]
    },
    {
      "cell_type": "code",
      "metadata": {
        "colab": {
          "base_uri": "https://localhost:8080/"
        },
        "id": "zp02FUyq7Fyn",
        "outputId": "00a41b43-8ddd-446e-b895-b38cda7135b9"
      },
      "source": [
        "\n",
        "image_height = train_digits.shape[1]  \n",
        "image_width = train_digits.shape[2]\n",
        "num_channels = 1  \n",
        "\n",
        "# re-shape the images data\n",
        "train_data = np.reshape(train_digits, (train_digits.shape[0], image_height, image_width, num_channels))\n",
        "test_data = np.reshape(test_digits, (test_digits.shape[0],image_height, image_width, num_channels))\n",
        "\n",
        "# re-scale the image data to values between (0.0,1.0]\n",
        "train_data = train_data.astype('float32') / 255.\n",
        "test_data = test_data.astype('float32') / 255.\n",
        "\n",
        "# one-hot encode the labels - we have 10 output classes\n",
        "# so 3 -> [0 0 0 1 0 0 0 0 0 0], 5 -> [0 0 0 0 0 1 0 0 0 0] & so on\n",
        "from keras.utils import to_categorical\n",
        "num_classes = 10\n",
        "train_labels_cat = to_categorical(train_labels,num_classes)\n",
        "test_labels_cat = to_categorical(test_labels,num_classes)\n",
        "train_labels_cat.shape, test_labels_cat.shape"
      ],
      "execution_count": null,
      "outputs": [
        {
          "output_type": "execute_result",
          "data": {
            "text/plain": [
              "((60000, 10), (10000, 10))"
            ]
          },
          "metadata": {
            "tags": []
          },
          "execution_count": 102
        }
      ]
    },
    {
      "cell_type": "code",
      "metadata": {
        "id": "4PFjUIoo7riK"
      },
      "source": [
        "# Train test split\n",
        "# shuffle the training dataset (5 times!)\n",
        "for _ in range(5): \n",
        "    indexes = np.random.permutation(len(train_data))\n",
        "\n",
        "train_data = train_data[indexes]\n",
        "train_labels_cat = train_labels_cat[indexes]\n",
        "\n",
        "# now set-aside 10% of the train_data/labels as the\n",
        "# cross-validation sets\n",
        "val_perc = 0.10\n",
        "val_count = int(val_perc * len(train_data))\n",
        "\n",
        "# first pick validation set from train_data/labels\n",
        "val_data = train_data[:val_count,:]\n",
        "val_labels_cat = train_labels_cat[:val_count,:]\n",
        "\n",
        "# leave rest in training set\n",
        "train_data2 = train_data[val_count:,:]\n",
        "train_labels_cat2 = train_labels_cat[val_count:,:]\n",
        "\n"
      ],
      "execution_count": null,
      "outputs": []
    },
    {
      "cell_type": "code",
      "metadata": {
        "id": "zsPjdPN8rK4X"
      },
      "source": [
        "\n",
        "# build a sequential model\n",
        "def define_model():\n",
        "\tmodel = Sequential()\n",
        "\tmodel.add(Conv2D(32, (3, 3), activation='relu', kernel_initializer='he_uniform', input_shape=(28, 28, 1)))\n",
        "\tmodel.add(BatchNormalization())\n",
        "\tmodel.add(MaxPooling2D((2, 2)))\n",
        "\tmodel.add(Flatten())\n",
        "\tmodel.add(Dense(100, activation='relu', kernel_initializer='he_uniform'))\n",
        "\tmodel.add(BatchNormalization())\n",
        "\tmodel.add(Dense(10, activation='softmax'))\n",
        "\t# compile model\n",
        "\topt = SGD(lr=0.01, momentum=0.9)\n",
        "\tmodel.compile(optimizer=opt, loss='categorical_crossentropy', metrics=['accuracy'])\n",
        "\treturn model"
      ],
      "execution_count": null,
      "outputs": []
    },
    {
      "cell_type": "code",
      "metadata": {
        "colab": {
          "base_uri": "https://localhost:8080/"
        },
        "id": "cnPjCOGOwogX",
        "outputId": "9c49ea7b-f123-4eb0-e070-5b12747d01fa"
      },
      "source": [
        "model = define_model()\n",
        "print(model.summary())"
      ],
      "execution_count": null,
      "outputs": [
        {
          "output_type": "stream",
          "text": [
            "Model: \"sequential_14\"\n",
            "_________________________________________________________________\n",
            "Layer (type)                 Output Shape              Param #   \n",
            "=================================================================\n",
            "conv2d_15 (Conv2D)           (None, 26, 26, 32)        320       \n",
            "_________________________________________________________________\n",
            "batch_normalization_13 (Batc (None, 26, 26, 32)        128       \n",
            "_________________________________________________________________\n",
            "max_pooling2d_11 (MaxPooling (None, 13, 13, 32)        0         \n",
            "_________________________________________________________________\n",
            "flatten_3 (Flatten)          (None, 5408)              0         \n",
            "_________________________________________________________________\n",
            "dense_19 (Dense)             (None, 100)               540900    \n",
            "_________________________________________________________________\n",
            "batch_normalization_14 (Batc (None, 100)               400       \n",
            "_________________________________________________________________\n",
            "dense_20 (Dense)             (None, 10)                1010      \n",
            "=================================================================\n",
            "Total params: 542,758\n",
            "Trainable params: 542,494\n",
            "Non-trainable params: 264\n",
            "_________________________________________________________________\n",
            "None\n"
          ],
          "name": "stdout"
        }
      ]
    },
    {
      "cell_type": "code",
      "metadata": {
        "colab": {
          "base_uri": "https://localhost:8080/"
        },
        "id": "YBg1OAvK7146",
        "outputId": "bf93d339-ec19-482e-b310-59ce77ee2b85"
      },
      "source": [
        "history = model.fit(train_data2, train_labels_cat2, \n",
        "                    epochs=10, batch_size=64,\n",
        "                    validation_data=(val_data, val_labels_cat))"
      ],
      "execution_count": null,
      "outputs": [
        {
          "output_type": "stream",
          "text": [
            "Epoch 1/10\n",
            "844/844 [==============================] - 37s 43ms/step - loss: 0.2431 - accuracy: 0.9267 - val_loss: 0.0660 - val_accuracy: 0.9803\n",
            "Epoch 2/10\n",
            "844/844 [==============================] - 36s 42ms/step - loss: 0.0523 - accuracy: 0.9855 - val_loss: 0.0549 - val_accuracy: 0.9832\n",
            "Epoch 3/10\n",
            "844/844 [==============================] - 36s 42ms/step - loss: 0.0289 - accuracy: 0.9922 - val_loss: 0.0462 - val_accuracy: 0.9847\n",
            "Epoch 4/10\n",
            "844/844 [==============================] - 35s 42ms/step - loss: 0.0188 - accuracy: 0.9955 - val_loss: 0.0438 - val_accuracy: 0.9865\n",
            "Epoch 5/10\n",
            "844/844 [==============================] - 35s 42ms/step - loss: 0.0116 - accuracy: 0.9975 - val_loss: 0.0435 - val_accuracy: 0.9867\n",
            "Epoch 6/10\n",
            "844/844 [==============================] - 36s 42ms/step - loss: 0.0082 - accuracy: 0.9985 - val_loss: 0.0447 - val_accuracy: 0.9865\n",
            "Epoch 7/10\n",
            "844/844 [==============================] - 36s 43ms/step - loss: 0.0066 - accuracy: 0.9989 - val_loss: 0.0482 - val_accuracy: 0.9868\n",
            "Epoch 8/10\n",
            "844/844 [==============================] - 36s 43ms/step - loss: 0.0043 - accuracy: 0.9995 - val_loss: 0.0457 - val_accuracy: 0.9867\n",
            "Epoch 9/10\n",
            "844/844 [==============================] - 36s 43ms/step - loss: 0.0035 - accuracy: 0.9996 - val_loss: 0.0459 - val_accuracy: 0.9868\n",
            "Epoch 10/10\n",
            "844/844 [==============================] - 36s 43ms/step - loss: 0.0028 - accuracy: 0.9996 - val_loss: 0.0453 - val_accuracy: 0.9860\n"
          ],
          "name": "stdout"
        }
      ]
    },
    {
      "cell_type": "code",
      "metadata": {
        "colab": {
          "base_uri": "https://localhost:8080/",
          "height": 299
        },
        "id": "acRd6GLG8E73",
        "outputId": "4ad0dda6-1102-4983-adf3-98d6595a0951"
      },
      "source": [
        "import matplotlib.pyplot as plt\n",
        "plt.plot(history.history['accuracy'])\n",
        "plt.plot(history.history['val_accuracy'])\n",
        "plt.title(' Training and validation accuracy')\n",
        "plt.ylabel('accuracy')\n",
        "plt.xlabel('epoch')\n",
        "plt.legend(['training_accuracy', 'validation_accuracy'], loc='lower center')\n",
        "plt.show()"
      ],
      "execution_count": null,
      "outputs": [
        {
          "output_type": "display_data",
          "data": {
            "image/png": "[encoded data removed]",
            "text/plain": [
              "<Figure size 432x288 with 1 Axes>"
            ]
          },
          "metadata": {
            "tags": []
          }
        }
      ]
    },
    {
      "cell_type": "code",
      "metadata": {
        "colab": {
          "base_uri": "https://localhost:8080/",
          "height": 317
        },
        "id": "fO6hhxrA9U_V",
        "outputId": "c4993cfb-7d54-4ebc-accc-459dde324e91"
      },
      "source": [
        "print(\"[INFO] plotting training history...\")\n",
        "plt.style.use(\"ggplot\")\n",
        "plt.figure()\n",
        "plt.plot(history.history[\"loss\"], label=\"train_loss\")\n",
        "plt.plot(history.history[\"val_loss\"], label=\"val_loss\")\n",
        "plt.title(\"Training Loss\")\n",
        "plt.xlabel(\"Epoch #\")\n",
        "plt.ylabel(\"Loss\")\n",
        "plt.legend(loc=\"lower left\")\n",
        "#plt.savefig(plotPath)\n",
        "plt.show()\n",
        "#plt.savefig('trainingloss.jpg')"
      ],
      "execution_count": null,
      "outputs": [
        {
          "output_type": "stream",
          "text": [
            "[INFO] plotting training history...\n"
          ],
          "name": "stdout"
        },
        {
          "output_type": "display_data",
          "data": {
            "image/png": "[encoded data removed]",
            "text/plain": [
              "<Figure size 432x288 with 1 Axes>"
            ]
          },
          "metadata": {
            "tags": []
          }
        }
      ]
    },
    {
      "cell_type": "code",
      "metadata": {
        "colab": {
          "base_uri": "https://localhost:8080/"
        },
        "id": "yhIRC8tM9dDC",
        "outputId": "4da66575-03d6-4ef2-9476-41385133bc06"
      },
      "source": [
        "test_loss, test_accuracy = \\\n",
        "  model.evaluate(test_data, test_labels_cat, batch_size=64)\n",
        "print('Test loss: %.4f accuracy: %.4f' % (test_loss, test_accuracy))"
      ],
      "execution_count": null,
      "outputs": [
        {
          "output_type": "stream",
          "text": [
            "157/157 [==============================] - 2s 13ms/step - loss: 0.0427 - accuracy: 0.9867\n",
            "Test loss: 0.0427 accuracy: 0.9867\n"
          ],
          "name": "stdout"
        }
      ]
    }
  ]
}