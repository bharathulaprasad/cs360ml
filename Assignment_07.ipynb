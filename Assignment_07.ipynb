{
  "nbformat": 4,
  "nbformat_minor": 0,
  "metadata": {
    "colab": {
      "name": "Assignment_07.ipynb",
      "provenance": [],
      "collapsed_sections": [],
      "authorship_tag": "ABX9TyNTxiaAze58ArTHP8igq09V",
      "include_colab_link": true
    },
    "kernelspec": {
      "name": "python3",
      "display_name": "Python 3"
    }
  },
  "cells": [
    {
      "cell_type": "markdown",
      "metadata": {
        "id": "view-in-github",
        "colab_type": "text"
      },
      "source": [
        "<a href=\"https://colab.research.google.com/github/bharathulaprasad/cs360ml/blob/main/Assignment_07.ipynb\" target=\"_parent\"><img src=\"https://colab.research.google.com/assets/colab-badge.svg\" alt=\"Open In Colab\"/></a>"
      ]
    },
    {
      "cell_type": "markdown",
      "metadata": {
        "id": "2oQo3JmRXVcC"
      },
      "source": [
        "Problem 1:Implement the single layer perceptron (SLP) for the OR and\n",
        "AND problem. Please make sure the followings: Marks: 10\n",
        "\n",
        "a. Activation function is threshold activation.\n",
        "\n",
        "b. Train the model for different learning rates (LR),\n",
        "where 0<LR<1. \n",
        "Train for 5 different learning rates and\n",
        "plot the training curve(epoch vs training accuracy).\n",
        "\n",
        "c. Weight initialization should be between -0.3 to 0.3"
      ]
    },
    {
      "cell_type": "code",
      "metadata": {
        "id": "gV3MQiQkUkzq"
      },
      "source": [
        "# Problem 1:\n",
        "import numpy as np\n",
        "import matplotlib.pyplot as plt\n",
        "import scipy.spatial\n",
        "from collections import Counter\n",
        "\n",
        "from sklearn.metrics import accuracy_score"
      ],
      "execution_count": 143,
      "outputs": []
    },
    {
      "cell_type": "code",
      "metadata": {
        "id": "YivtgRAtUr6A"
      },
      "source": [
        "# Define input features(OR GATE) and (AND GATE) respectively\n",
        "input_features = np.array([[0,0],[0,1],[1,0],[1,1]])\n",
        "input_features1 = np.array([[0,0],[0,1],[1,0],[1,1]])\n",
        "\n",
        "\n",
        "# Define target output:\n",
        "target_output = np.array([[0,1,1,1]])\n",
        "target_output1 = np.array([[0,0,0,1]])"
      ],
      "execution_count": 144,
      "outputs": []
    },
    {
      "cell_type": "code",
      "metadata": {
        "colab": {
          "base_uri": "https://localhost:8080/",
          "height": 0
        },
        "id": "-ZZO4vzXU8-d",
        "outputId": "f6f1ac32-bf4b-458b-fa0f-f73a9d67889e"
      },
      "source": [
        "# Reshaping our target output into vector:\n",
        "target_output = target_output.reshape(4,1)\n",
        "print(target_output.shape)\n",
        "print (target_output)\n",
        "\n",
        "target_output1 = target_output1.reshape(4,1)\n",
        "print(target_output1.shape)\n",
        "print (target_output1)"
      ],
      "execution_count": 145,
      "outputs": [
        {
          "output_type": "stream",
          "text": [
            "(4, 1)\n",
            "[[0]\n",
            " [1]\n",
            " [1]\n",
            " [1]]\n",
            "(4, 1)\n",
            "[[0]\n",
            " [0]\n",
            " [0]\n",
            " [1]]\n"
          ],
          "name": "stdout"
        }
      ]
    },
    {
      "cell_type": "code",
      "metadata": {
        "colab": {
          "base_uri": "https://localhost:8080/",
          "height": 0
        },
        "id": "jAGDOOTnW-9m",
        "outputId": "a3275bd6-580d-400c-84f1-379a845cc196"
      },
      "source": [
        "# Define weights:\n",
        "weights = np.array([[-0.3],[0.3]])\n",
        "print(weights.shape)\n",
        "print (weights)\n",
        "# Bias weight:\n",
        "bias = 0.3\n",
        "# Learning Rate:\n",
        "lr = 0.85"
      ],
      "execution_count": 146,
      "outputs": [
        {
          "output_type": "stream",
          "text": [
            "(2, 1)\n",
            "[[-0.3]\n",
            " [ 0.3]]\n"
          ],
          "name": "stdout"
        }
      ]
    },
    {
      "cell_type": "code",
      "metadata": {
        "id": "QhqHSIt7VqpH"
      },
      "source": [
        "# Activation function:\n",
        "def sigmoid(x):\n",
        "  return 1/(1+np.exp(-x))\n",
        "# Derivative of activation function:\n",
        "def sigmoid_der(x):\n",
        "  return sigmoid(x)*(1-sigmoid(x))"
      ],
      "execution_count": 147,
      "outputs": []
    },
    {
      "cell_type": "code",
      "metadata": {
        "colab": {
          "base_uri": "https://localhost:8080/",
          "height": 0
        },
        "id": "YKhi3qBiVDIj",
        "outputId": "3876abb7-0c74-434f-e933-7dc4a02ea05c"
      },
      "source": [
        "# Running our code 10000 times:\n",
        "for epoch in range(10000):\n",
        "  inputs = input_features\n",
        "  inputs = input_features1\n",
        "#Feedforward input:\n",
        "in_o = np.dot(inputs, weights) + bias \n",
        "#Feedforward output:\n",
        "out_o = sigmoid(in_o) \n",
        "#Backpropagation\n",
        "#Calculating error\n",
        "error = out_o - target_output\n",
        "error = out_o - target_output1\n",
        "\n",
        "#Going with the formula:\n",
        "x = error.sum()\n",
        "print(x)"
      ],
      "execution_count": 148,
      "outputs": [
        {
          "output_type": "stream",
          "text": [
            "1.2945413398491135\n"
          ],
          "name": "stdout"
        }
      ]
    },
    {
      "cell_type": "code",
      "metadata": {
        "id": "tLIDS-FgVGm9"
      },
      "source": [
        "#Calculating derivative:\n",
        "derror_douto = error\n",
        "douto_dino = sigmoid_der(out_o)\n",
        "#Multiplying individual derivatives:\n",
        "deriv = derror_douto * douto_dino \n",
        "#Multiplying with the 3rd individual derivative:\n",
        "#Finding the transpose of input_features:\n",
        "inputs = input_features.T\n",
        "inputs = input_features1.T\n",
        "deriv_final = np.dot(inputs,deriv)"
      ],
      "execution_count": 149,
      "outputs": []
    },
    {
      "cell_type": "code",
      "metadata": {
        "colab": {
          "base_uri": "https://localhost:8080/",
          "height": 0
        },
        "id": "89eJiwsGVN4E",
        "outputId": "16530eb6-7b9f-4fcb-e52a-3a5b32aab8cf"
      },
      "source": [
        "#Updating the weights values:\n",
        "weights -= lr * deriv_final \n",
        "#Updating the bias weight value:\n",
        "for i in deriv:\n",
        " bias -= lr * i \n",
        "#Check the final values for weight and biasprint (weights)\n",
        "print(weights)\n",
        "print (bias) "
      ],
      "execution_count": 150,
      "outputs": [
        {
          "output_type": "stream",
          "text": [
            "[[-0.31651391]\n",
            " [ 0.25952179]]\n",
            "[0.04711738]\n"
          ],
          "name": "stdout"
        }
      ]
    },
    {
      "cell_type": "code",
      "metadata": {
        "colab": {
          "base_uri": "https://localhost:8080/",
          "height": 0
        },
        "id": "1Ng0L9WJVfqf",
        "outputId": "d4be8be1-59ce-4d43-856f-6a4522f86c98"
      },
      "source": [
        "#Predictions \n",
        "#Taking inputs:\n",
        "single_point = np.array([1,0])\n",
        " #1st step:\n",
        "result1 = np.dot(single_point, weights) + bias \n",
        "#2nd step:\n",
        "result2 = sigmoid(result1) \n",
        "#Print final result\n",
        "print(result2) \n",
        "#2:\n",
        "single_point = np.array([1,1]) \n",
        "result1 = np.dot(single_point, weights) + bias \n",
        "result2 = sigmoid(result1) \n",
        "print(result2) \n",
        "#3.\n",
        "single_point = np.array([0,0]) \n",
        "result1 = np.dot(single_point, weights) + bias \n",
        "result2 = sigmoid(result1) \n",
        "print(result2)\n",
        "#4.\n",
        "single_point = np.array([0,1]) \n",
        "result1 = np.dot(single_point, weights) + bias \n",
        "result2 = sigmoid(result1) \n",
        "print(result2)"
      ],
      "execution_count": 151,
      "outputs": [
        {
          "output_type": "stream",
          "text": [
            "[0.43305525]\n",
            "[0.49753134]\n",
            "[0.51177717]\n",
            "[0.57606471]\n"
          ],
          "name": "stdout"
        }
      ]
    },
    {
      "cell_type": "markdown",
      "metadata": {
        "id": "ZvzXgpahXOKI"
      },
      "source": [
        "Problem 2: KNN Classifier\n",
        "\n",
        "Implement the KNN classifier over the IRIS dataset\n"
      ]
    },
    {
      "cell_type": "code",
      "metadata": {
        "id": "vwxptsOVhjqv"
      },
      "source": [
        "# Problem 2:\n",
        "from sklearn import datasets\n",
        "import matplotlib.pyplot as plt\n",
        "import pandas as pd\n",
        "from sklearn.cluster import KMeans\n",
        " \n",
        " \n",
        "dataset = r'https://archive.ics.uci.edu/ml/machine-learning-databases/iris/iris.data' # use your path\n",
        "iris = pd.read_csv(dataset, index_col=None, header=0)\n",
        " \n",
        "iris.columns=['sepal length in cm', 'sepal width in cm', 'petal length in cm', 'petal width in cm', 'class']\n",
        "iris_floats = iris[['sepal length in cm', 'sepal width in cm', 'petal length in cm', 'petal width in cm']].iloc[: , :].values"
      ],
      "execution_count": 152,
      "outputs": []
    },
    {
      "cell_type": "code",
      "metadata": {
        "colab": {
          "base_uri": "https://localhost:8080/",
          "height": 0
        },
        "id": "OHubqlWro4OM",
        "outputId": "9fdbb493-849a-4d57-aa86-f3491991701f"
      },
      "source": [
        "print(iris.shape)"
      ],
      "execution_count": 153,
      "outputs": [
        {
          "output_type": "stream",
          "text": [
            "(149, 5)\n"
          ],
          "name": "stdout"
        }
      ]
    },
    {
      "cell_type": "code",
      "metadata": {
        "colab": {
          "base_uri": "https://localhost:8080/",
          "height": 0
        },
        "id": "XphBLa2opBES",
        "outputId": "c22962b5-3156-4201-9c82-0308397fc14a"
      },
      "source": [
        "\n",
        "print(iris.head(20))"
      ],
      "execution_count": 154,
      "outputs": [
        {
          "output_type": "stream",
          "text": [
            "    sepal length in cm  sepal width in cm  ...  petal width in cm        class\n",
            "0                  4.9                3.0  ...                0.2  Iris-setosa\n",
            "1                  4.7                3.2  ...                0.2  Iris-setosa\n",
            "2                  4.6                3.1  ...                0.2  Iris-setosa\n",
            "3                  5.0                3.6  ...                0.2  Iris-setosa\n",
            "4                  5.4                3.9  ...                0.4  Iris-setosa\n",
            "5                  4.6                3.4  ...                0.3  Iris-setosa\n",
            "6                  5.0                3.4  ...                0.2  Iris-setosa\n",
            "7                  4.4                2.9  ...                0.2  Iris-setosa\n",
            "8                  4.9                3.1  ...                0.1  Iris-setosa\n",
            "9                  5.4                3.7  ...                0.2  Iris-setosa\n",
            "10                 4.8                3.4  ...                0.2  Iris-setosa\n",
            "11                 4.8                3.0  ...                0.1  Iris-setosa\n",
            "12                 4.3                3.0  ...                0.1  Iris-setosa\n",
            "13                 5.8                4.0  ...                0.2  Iris-setosa\n",
            "14                 5.7                4.4  ...                0.4  Iris-setosa\n",
            "15                 5.4                3.9  ...                0.4  Iris-setosa\n",
            "16                 5.1                3.5  ...                0.3  Iris-setosa\n",
            "17                 5.7                3.8  ...                0.3  Iris-setosa\n",
            "18                 5.1                3.8  ...                0.3  Iris-setosa\n",
            "19                 5.4                3.4  ...                0.2  Iris-setosa\n",
            "\n",
            "[20 rows x 5 columns]\n"
          ],
          "name": "stdout"
        }
      ]
    },
    {
      "cell_type": "code",
      "metadata": {
        "colab": {
          "base_uri": "https://localhost:8080/",
          "height": 0
        },
        "id": "8ZmP_iZspEER",
        "outputId": "746ba082-4f8c-451f-c1d9-e72c5feb322e"
      },
      "source": [
        "print(iris.groupby('class').size())"
      ],
      "execution_count": 155,
      "outputs": [
        {
          "output_type": "stream",
          "text": [
            "class\n",
            "Iris-setosa        49\n",
            "Iris-versicolor    50\n",
            "Iris-virginica     50\n",
            "dtype: int64\n"
          ],
          "name": "stdout"
        }
      ]
    },
    {
      "cell_type": "code",
      "metadata": {
        "id": "RG00JYGepgpw"
      },
      "source": [
        "from sklearn import model_selection\n",
        "from sklearn.metrics import accuracy_score\n",
        "from sklearn.neighbors import KNeighborsClassifier\n",
        "array = iris.values\n",
        "X = array[:,0:4]\n",
        "Y = array[:,4]\n",
        "test_size = 0.20\n",
        "seed = 7\n",
        "X_train, X_validation, y_train, y_validation = model_selection.train_test_split(X, Y, test_size=test_size, random_state=seed)\n",
        "\n",
        "seed = 7\n",
        "scoring = 'accuracy'"
      ],
      "execution_count": 156,
      "outputs": []
    },
    {
      "cell_type": "code",
      "metadata": {
        "colab": {
          "base_uri": "https://localhost:8080/"
        },
        "id": "XUR9O6knp1Ej",
        "outputId": "7dbf9bbd-8d1e-4db2-c82c-2c0f50e35b0b"
      },
      "source": [
        "from sklearn.metrics import classification_report\n",
        "from sklearn.metrics import confusion_matrix\n",
        "kfold = model_selection.KFold(n_splits=10, random_state=seed)\n",
        "cv_results = model_selection.cross_val_score(KNeighborsClassifier(), X_train, y_train, cv=kfold, scoring=scoring)\n",
        "\n",
        "knn = KNeighborsClassifier()\n",
        "knn.fit(X_train, y_train)\n",
        "predictions = knn.predict(X_validation)\n",
        "print(accuracy_score(y_validation, predictions))\n",
        "print(confusion_matrix(y_validation, predictions))\n",
        "print(classification_report(y_validation, predictions))\n",
        "\n",
        "print(\"%.2f  %.4f \" % (cv_results.mean(), cv_results.std()))"
      ],
      "execution_count": 162,
      "outputs": [
        {
          "output_type": "stream",
          "text": [
            "0.9333333333333333\n",
            "[[ 7  0  0]\n",
            " [ 0 11  1]\n",
            " [ 0  1 10]]\n",
            "                 precision    recall  f1-score   support\n",
            "\n",
            "    Iris-setosa       1.00      1.00      1.00         7\n",
            "Iris-versicolor       0.92      0.92      0.92        12\n",
            " Iris-virginica       0.91      0.91      0.91        11\n",
            "\n",
            "       accuracy                           0.93        30\n",
            "      macro avg       0.94      0.94      0.94        30\n",
            "   weighted avg       0.93      0.93      0.93        30\n",
            "\n",
            "0.97  0.0534 \n"
          ],
          "name": "stdout"
        },
        {
          "output_type": "stream",
          "text": [
            "/usr/local/lib/python3.7/dist-packages/sklearn/model_selection/_split.py:296: FutureWarning: Setting a random_state has no effect since shuffle is False. This will raise an error in 0.24. You should leave random_state to its default (None), or set shuffle=True.\n",
            "  FutureWarning\n"
          ],
          "name": "stderr"
        }
      ]
    },
    {
      "cell_type": "markdown",
      "metadata": {
        "id": "3mm6XtPwZ7xf"
      },
      "source": [
        "Now trying the same without using in built functions.\n",
        "Attempt 2:"
      ]
    },
    {
      "cell_type": "code",
      "metadata": {
        "id": "XhMgnX56Yhk_"
      },
      "source": [
        "# Now without using  built in functions\n",
        "class KNN:\n",
        "    def __init__(self, k):\n",
        "        self.k = k\n",
        "        \n",
        "    def fit(self, X, y):\n",
        "        self.X_train = X\n",
        "        self.y_train = y\n",
        "        \n",
        "    def distance(self, X1, X2):\n",
        "        distance = scipy.spatial.distance.euclidean(X1, X2)\n",
        "    \n",
        "    def predict(self, X_test):\n",
        "        final_output = []\n",
        "        for i in range(len(X_test)):\n",
        "            d = []\n",
        "            votes = []\n",
        "            for j in range(len(X_train)):\n",
        "                dist = scipy.spatial.distance.euclidean(X_train[j] , X_test[i])\n",
        "                d.append([dist, j])\n",
        "            d.sort()\n",
        "            d = d[0:self.k]\n",
        "            for d, j in d:\n",
        "                votes.append(y_train[j])\n",
        "            ans = Counter(votes).most_common(1)[0][0]\n",
        "            final_output.append(ans)\n",
        "            \n",
        "        return final_output\n",
        "    \n",
        "    def score(self, X_test, y_test):\n",
        "        predictions = self.predict(X_test)\n",
        "        return (predictions == y_test).sum() / len(y_test)\n"
      ],
      "execution_count": 158,
      "outputs": []
    },
    {
      "cell_type": "code",
      "metadata": {
        "colab": {
          "base_uri": "https://localhost:8080/",
          "height": 0
        },
        "id": "-UMvgUOmYoQf",
        "outputId": "f04ef330-b80a-4206-c1f3-0615e005c0d3"
      },
      "source": [
        "clf = KNN(3)\n",
        "clf.fit(X_train, Y_train)\n",
        "prediction = clf.predict(X_test)\n",
        "print(prediction)\n",
        "for i in prediction:\n",
        "    print(i, end= ' ')"
      ],
      "execution_count": 159,
      "outputs": [
        {
          "output_type": "stream",
          "text": [
            "['Iris-virginica', 'Iris-versicolor', 'Iris-setosa', 'Iris-versicolor', 'Iris-virginica', 'Iris-setosa', 'Iris-versicolor', 'Iris-versicolor', 'Iris-setosa', 'Iris-versicolor', 'Iris-versicolor', 'Iris-versicolor', 'Iris-setosa', 'Iris-virginica', 'Iris-setosa', 'Iris-versicolor', 'Iris-virginica', 'Iris-virginica', 'Iris-setosa', 'Iris-setosa', 'Iris-virginica', 'Iris-virginica', 'Iris-versicolor', 'Iris-virginica', 'Iris-virginica', 'Iris-virginica', 'Iris-versicolor', 'Iris-versicolor', 'Iris-virginica', 'Iris-virginica']\n",
            "Iris-virginica Iris-versicolor Iris-setosa Iris-versicolor Iris-virginica Iris-setosa Iris-versicolor Iris-versicolor Iris-setosa Iris-versicolor Iris-versicolor Iris-versicolor Iris-setosa Iris-virginica Iris-setosa Iris-versicolor Iris-virginica Iris-virginica Iris-setosa Iris-setosa Iris-virginica Iris-virginica Iris-versicolor Iris-virginica Iris-virginica Iris-virginica Iris-versicolor Iris-versicolor Iris-virginica Iris-virginica "
          ],
          "name": "stdout"
        }
      ]
    },
    {
      "cell_type": "code",
      "metadata": {
        "colab": {
          "base_uri": "https://localhost:8080/",
          "height": 0
        },
        "id": "MWrl0LTyZqxG",
        "outputId": "6e5c69c8-2536-4a2a-f6fe-48ccc8951335"
      },
      "source": [
        "prediction == y_test"
      ],
      "execution_count": 160,
      "outputs": [
        {
          "output_type": "execute_result",
          "data": {
            "text/plain": [
              "array([ True,  True,  True,  True,  True,  True,  True,  True,  True,\n",
              "        True,  True,  True,  True,  True,  True,  True,  True,  True,\n",
              "        True,  True, False,  True,  True,  True,  True,  True,  True,\n",
              "        True,  True,  True])"
            ]
          },
          "metadata": {
            "tags": []
          },
          "execution_count": 160
        }
      ]
    },
    {
      "cell_type": "code",
      "metadata": {
        "colab": {
          "base_uri": "https://localhost:8080/",
          "height": 0
        },
        "id": "cRn3f4DeZuHX",
        "outputId": "1f2b4d6b-9cce-4c99-a07a-2ece25c77ffa"
      },
      "source": [
        "clf.score(X_test, y_test)"
      ],
      "execution_count": 161,
      "outputs": [
        {
          "output_type": "execute_result",
          "data": {
            "text/plain": [
              "0.9666666666666667"
            ]
          },
          "metadata": {
            "tags": []
          },
          "execution_count": 161
        }
      ]
    },
    {
      "cell_type": "markdown",
      "metadata": {
        "id": "z-_A5zSjc6Mv"
      },
      "source": [
        "**So it is almost 0.93 to 0.96 accuracy score.**"
      ]
    }
  ]
}