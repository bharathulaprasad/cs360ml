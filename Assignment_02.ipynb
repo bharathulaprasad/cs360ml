{
  "nbformat": 4,
  "nbformat_minor": 0,
  "metadata": {
    "colab": {
      "name": "Assignment_02.ipynb",
      "provenance": [],
      "collapsed_sections": [],
      "authorship_tag": "ABX9TyNvYf2Lq6yeRjBMN12LkcgT",
      "include_colab_link": true
    },
    "kernelspec": {
      "name": "python3",
      "display_name": "Python 3"
    }
  },
  "cells": [
    {
      "cell_type": "markdown",
      "metadata": {
        "id": "view-in-github",
        "colab_type": "text"
      },
      "source": [
        "<a href=\"https://colab.research.google.com/github/bharathulaprasad/cs360ml/blob/main/Assignment_02.ipynb\" target=\"_parent\"><img src=\"https://colab.research.google.com/assets/colab-badge.svg\" alt=\"Open In Colab\"/></a>"
      ]
    },
    {
      "cell_type": "code",
      "metadata": {
        "colab": {
          "base_uri": "https://localhost:8080/"
        },
        "id": "BQl2vgCsTsBQ",
        "outputId": "49541a6f-21a7-4cca-e2ab-dd9919c70495"
      },
      "source": [
        "import pandas as pd\r\n",
        "df = pd.read_csv (r'sample_data/wine.csv')\r\n",
        "print(df)\r\n"
      ],
      "execution_count": null,
      "outputs": [
        {
          "output_type": "stream",
          "text": [
            "     Wine  Alcohol  Malic.acid   Ash  ...  Color.int   Hue    OD  Proline\n",
            "0       1    14.23        1.71  2.43  ...       5.64  1.04  3.92     1065\n",
            "1       1    13.20        1.78  2.14  ...       4.38  1.05  3.40     1050\n",
            "2       1    13.16        2.36  2.67  ...       5.68  1.03  3.17     1185\n",
            "3       1    14.37        1.95  2.50  ...       7.80  0.86  3.45     1480\n",
            "4       1    13.24        2.59  2.87  ...       4.32  1.04  2.93      735\n",
            "..    ...      ...         ...   ...  ...        ...   ...   ...      ...\n",
            "173     3    13.71        5.65  2.45  ...       7.70  0.64  1.74      740\n",
            "174     3    13.40        3.91  2.48  ...       7.30  0.70  1.56      750\n",
            "175     3    13.27        4.28  2.26  ...      10.20  0.59  1.56      835\n",
            "176     3    13.17        2.59  2.37  ...       9.30  0.60  1.62      840\n",
            "177     3    14.13        4.10  2.74  ...       9.20  0.61  1.60      560\n",
            "\n",
            "[178 rows x 14 columns]\n"
          ],
          "name": "stdout"
        }
      ]
    },
    {
      "cell_type": "code",
      "metadata": {
        "colab": {
          "base_uri": "https://localhost:8080/"
        },
        "id": "ZFj90bHhxUhz",
        "outputId": "da0c8db6-5a5c-48f7-b9f0-d2d5d555b71b"
      },
      "source": [
        "print(\"Rows, columns: \" + str(df.shape))\r\n",
        "print(df.head())"
      ],
      "execution_count": null,
      "outputs": [
        {
          "output_type": "stream",
          "text": [
            "Rows, columns: (178, 14)\n",
            "   Wine  Alcohol  Malic.acid   Ash  ...  Color.int   Hue    OD  Proline\n",
            "0     1    14.23        1.71  2.43  ...       5.64  1.04  3.92     1065\n",
            "1     1    13.20        1.78  2.14  ...       4.38  1.05  3.40     1050\n",
            "2     1    13.16        2.36  2.67  ...       5.68  1.03  3.17     1185\n",
            "3     1    14.37        1.95  2.50  ...       7.80  0.86  3.45     1480\n",
            "4     1    13.24        2.59  2.87  ...       4.32  1.04  2.93      735\n",
            "\n",
            "[5 rows x 14 columns]\n"
          ],
          "name": "stdout"
        }
      ]
    },
    {
      "cell_type": "code",
      "metadata": {
        "colab": {
          "base_uri": "https://localhost:8080/"
        },
        "id": "e730VbRzyIUN",
        "outputId": "281e0a10-6835-4d5d-d496-027adb4dc7a3"
      },
      "source": [
        "print(df.mean())\r\n"
      ],
      "execution_count": null,
      "outputs": [
        {
          "output_type": "stream",
          "text": [
            "Wine                      1.938202\n",
            "Alcohol                  13.000618\n",
            "Malic.acid                2.336348\n",
            "Ash                       2.366517\n",
            "Acl                      19.494944\n",
            "Mg                       99.741573\n",
            "Phenols                   2.295112\n",
            "Flavanoids                2.029270\n",
            "Nonflavanoid.phenols      0.361854\n",
            "Proanth                   1.590899\n",
            "Color.int                 5.058090\n",
            "Hue                       0.957449\n",
            "OD                        2.611685\n",
            "Proline                 746.893258\n",
            "dtype: float64\n",
            "Wine                      2.000\n",
            "Alcohol                  13.050\n",
            "Malic.acid                1.865\n",
            "Ash                       2.360\n",
            "Acl                      19.500\n",
            "Mg                       98.000\n",
            "Phenols                   2.355\n",
            "Flavanoids                2.135\n",
            "Nonflavanoid.phenols      0.340\n",
            "Proanth                   1.555\n",
            "Color.int                 4.690\n",
            "Hue                       0.965\n",
            "OD                        2.780\n",
            "Proline                 673.500\n",
            "dtype: float64\n",
            "   Wine  Alcohol  Malic.acid   Ash  ...  Color.int   Hue    OD  Proline\n",
            "0   2.0    12.37        1.73  2.28  ...        2.6  1.04  2.87    520.0\n",
            "1   NaN    13.05         NaN  2.30  ...        3.8   NaN   NaN    680.0\n",
            "2   NaN      NaN         NaN   NaN  ...        4.6   NaN   NaN      NaN\n",
            "\n",
            "[3 rows x 14 columns]\n",
            "Wine                      0.775035\n",
            "Alcohol                   0.811827\n",
            "Malic.acid                1.117146\n",
            "Ash                       0.274344\n",
            "Acl                       3.339564\n",
            "Mg                       14.282484\n",
            "Phenols                   0.625851\n",
            "Flavanoids                0.998859\n",
            "Nonflavanoid.phenols      0.124453\n",
            "Proanth                   0.572359\n",
            "Color.int                 2.318286\n",
            "Hue                       0.228572\n",
            "OD                        0.709990\n",
            "Proline                 314.907474\n",
            "dtype: float64\n"
          ],
          "name": "stdout"
        }
      ]
    },
    {
      "cell_type": "code",
      "metadata": {
        "colab": {
          "base_uri": "https://localhost:8080/"
        },
        "id": "_UTdiSrr0E7o",
        "outputId": "d57ab7ca-5fc1-451b-a8f2-f173dcdc6f2d"
      },
      "source": [
        "print(df.median())\r\n"
      ],
      "execution_count": null,
      "outputs": [
        {
          "output_type": "stream",
          "text": [
            "Wine                      2.000\n",
            "Alcohol                  13.050\n",
            "Malic.acid                1.865\n",
            "Ash                       2.360\n",
            "Acl                      19.500\n",
            "Mg                       98.000\n",
            "Phenols                   2.355\n",
            "Flavanoids                2.135\n",
            "Nonflavanoid.phenols      0.340\n",
            "Proanth                   1.555\n",
            "Color.int                 4.690\n",
            "Hue                       0.965\n",
            "OD                        2.780\n",
            "Proline                 673.500\n",
            "dtype: float64\n"
          ],
          "name": "stdout"
        }
      ]
    },
    {
      "cell_type": "code",
      "metadata": {
        "colab": {
          "base_uri": "https://localhost:8080/"
        },
        "id": "NZJfYxCP0G2h",
        "outputId": "77f92ba5-147d-4d02-ea4c-af2e98f20b8a"
      },
      "source": [
        "print(df.mode())\r\n"
      ],
      "execution_count": null,
      "outputs": [
        {
          "output_type": "stream",
          "text": [
            "   Wine  Alcohol  Malic.acid   Ash  ...  Color.int   Hue    OD  Proline\n",
            "0   2.0    12.37        1.73  2.28  ...        2.6  1.04  2.87    520.0\n",
            "1   NaN    13.05         NaN  2.30  ...        3.8   NaN   NaN    680.0\n",
            "2   NaN      NaN         NaN   NaN  ...        4.6   NaN   NaN      NaN\n",
            "\n",
            "[3 rows x 14 columns]\n"
          ],
          "name": "stdout"
        }
      ]
    },
    {
      "cell_type": "code",
      "metadata": {
        "colab": {
          "base_uri": "https://localhost:8080/"
        },
        "id": "Q1cEJqmK0Inx",
        "outputId": "f560a8d6-8a1b-46f1-d3f1-7b33f4b886d8"
      },
      "source": [
        "print(df.std())"
      ],
      "execution_count": null,
      "outputs": [
        {
          "output_type": "stream",
          "text": [
            "Wine                      0.775035\n",
            "Alcohol                   0.811827\n",
            "Malic.acid                1.117146\n",
            "Ash                       0.274344\n",
            "Acl                       3.339564\n",
            "Mg                       14.282484\n",
            "Phenols                   0.625851\n",
            "Flavanoids                0.998859\n",
            "Nonflavanoid.phenols      0.124453\n",
            "Proanth                   0.572359\n",
            "Color.int                 2.318286\n",
            "Hue                       0.228572\n",
            "OD                        0.709990\n",
            "Proline                 314.907474\n",
            "dtype: float64\n"
          ],
          "name": "stdout"
        }
      ]
    },
    {
      "cell_type": "code",
      "metadata": {
        "colab": {
          "base_uri": "https://localhost:8080/"
        },
        "id": "Dfh2QweCyMu9",
        "outputId": "876c7274-014c-4c9d-95b1-2ddcfa4943ba"
      },
      "source": [
        "print(df.mean(axis=1))\r\n"
      ],
      "execution_count": null,
      "outputs": [
        {
          "output_type": "stream",
          "text": [
            "0       89.000000\n",
            "1       85.364286\n",
            "2       95.915714\n",
            "3      117.963571\n",
            "4       64.977857\n",
            "          ...    \n",
            "173     63.875714\n",
            "174     65.124286\n",
            "175     72.444286\n",
            "176     72.640714\n",
            "177     51.471429\n",
            "Length: 178, dtype: float64\n"
          ],
          "name": "stdout"
        }
      ]
    },
    {
      "cell_type": "code",
      "metadata": {
        "colab": {
          "base_uri": "https://localhost:8080/"
        },
        "id": "XYcld9fv0PMb",
        "outputId": "8644bcda-a0c9-478c-f382-8c41d156d216"
      },
      "source": [
        "print(df.median(axis=1))\r\n"
      ],
      "execution_count": null,
      "outputs": [
        {
          "output_type": "stream",
          "text": [
            "0      2.930\n",
            "1      2.705\n",
            "2      2.990\n",
            "3      3.470\n",
            "4      2.835\n",
            "       ...  \n",
            "173    2.725\n",
            "174    2.740\n",
            "175    2.630\n",
            "176    2.480\n",
            "177    2.870\n",
            "Length: 178, dtype: float64\n"
          ],
          "name": "stdout"
        }
      ]
    },
    {
      "cell_type": "code",
      "metadata": {
        "colab": {
          "base_uri": "https://localhost:8080/"
        },
        "id": "8hAjUFWm0RIL",
        "outputId": "77d82d2c-ce64-45f8-f695-10af9468fbc6"
      },
      "source": [
        "print(df.mode(axis=1))\r\n"
      ],
      "execution_count": null,
      "outputs": [
        {
          "output_type": "stream",
          "text": [
            "       0     1     2     3     4   ...     9      10    11     12      13\n",
            "0    0.28  1.00  1.04  1.71  2.29  ...   5.64  14.23  15.6  127.0  1065.0\n",
            "1    0.26  1.00  1.05  1.28  1.78  ...   4.38  11.20  13.2  100.0  1050.0\n",
            "2    0.30  1.00  1.03  2.36  2.67  ...   5.68  13.16  18.6  101.0  1185.0\n",
            "3    0.24  0.86  1.00  1.95  2.18  ...   7.80  14.37  16.8  113.0  1480.0\n",
            "4    0.39  1.00  1.04  1.82  2.59  ...   4.32  13.24  21.0  118.0   735.0\n",
            "..    ...   ...   ...   ...   ...  ...    ...    ...   ...    ...     ...\n",
            "173  0.52  0.61  0.64  1.06  1.68  ...   7.70  13.71  20.5   95.0   740.0\n",
            "174  0.43  0.70  0.75  1.41  1.56  ...   7.30  13.40  23.0  102.0   750.0\n",
            "175  0.43  0.59  0.69  1.35  1.56  ...  10.20  13.27  20.0  120.0   835.0\n",
            "176  0.53  0.60  0.68  1.46  1.62  ...   9.30  13.17  20.0  120.0   840.0\n",
            "177  0.56  0.61  0.76  1.35  1.60  ...   9.20  14.13  24.5   96.0   560.0\n",
            "\n",
            "[178 rows x 14 columns]\n"
          ],
          "name": "stdout"
        }
      ]
    },
    {
      "cell_type": "code",
      "metadata": {
        "colab": {
          "base_uri": "https://localhost:8080/"
        },
        "id": "Au5B3d0Y0TDd",
        "outputId": "861e6e87-45e5-43f8-aa06-35d1701de0ec"
      },
      "source": [
        "print(df.std(axis=1))"
      ],
      "execution_count": null,
      "outputs": [
        {
          "output_type": "stream",
          "text": [
            "0      282.840872\n",
            "1      278.848975\n",
            "2      314.548639\n",
            "3      393.109735\n",
            "4      195.274640\n",
            "          ...    \n",
            "173    196.160444\n",
            "174    198.906389\n",
            "175    221.684271\n",
            "176    223.058533\n",
            "177    148.493305\n",
            "Length: 178, dtype: float64\n"
          ],
          "name": "stdout"
        }
      ]
    },
    {
      "cell_type": "code",
      "metadata": {
        "colab": {
          "base_uri": "https://localhost:8080/"
        },
        "id": "gvy6mrTVvSoD",
        "outputId": "19919e17-89de-46a8-905d-f59bc71717ba"
      },
      "source": [
        "data[\"Wine\"].mean()"
      ],
      "execution_count": null,
      "outputs": [
        {
          "output_type": "execute_result",
          "data": {
            "text/plain": [
              "1.9382022471910112"
            ]
          },
          "metadata": {
            "tags": []
          },
          "execution_count": 9
        }
      ]
    },
    {
      "cell_type": "code",
      "metadata": {
        "colab": {
          "base_uri": "https://localhost:8080/"
        },
        "id": "xhXPKIcF1U8Y",
        "outputId": "3e4cdd1e-8943-4ac2-fdab-f928ef442269"
      },
      "source": [
        "#Pearson's correlation coefficient = covariance(X, Y) / (stdv(X) * stdv(Y))\r\n",
        "import scipy.stats\r\n",
        "Alcohol = df['Alcohol'] \r\n",
        "Proline= df['Proline']\r\n",
        "corr, _ = pearsonr(Alcohol, Proline) \r\n",
        "print('Pearsons correlation: %.3f' % corr) "
      ],
      "execution_count": null,
      "outputs": [
        {
          "output_type": "stream",
          "text": [
            "Pearsons correlation: 0.644\n"
          ],
          "name": "stdout"
        }
      ]
    },
    {
      "cell_type": "code",
      "metadata": {
        "colab": {
          "base_uri": "https://localhost:8080/"
        },
        "id": "6s0FWn8-5UwV",
        "outputId": "57f1b061-df3b-4136-9839-46b7bab97ac6"
      },
      "source": [
        "np.cov((df[1:5]).to_numpy() )\r\n",
        "  \r\n"
      ],
      "execution_count": null,
      "outputs": [
        {
          "output_type": "execute_result",
          "data": {
            "text/plain": [
              "array([[ 77756.75101099,  87705.45011978, 109598.37580659,\n",
              "         54335.68722527],\n",
              "       [ 87705.45011978,  98940.8461956 , 123646.72576264,\n",
              "         61251.97932857],\n",
              "       [109598.37580659, 123646.72576264, 154535.26350165,\n",
              "         76496.07163132],\n",
              "       [ 54335.68722527,  61251.97932857,  76496.07163132,\n",
              "         38132.18501813]])"
            ]
          },
          "metadata": {
            "tags": []
          },
          "execution_count": 56
        }
      ]
    }
  ]
}